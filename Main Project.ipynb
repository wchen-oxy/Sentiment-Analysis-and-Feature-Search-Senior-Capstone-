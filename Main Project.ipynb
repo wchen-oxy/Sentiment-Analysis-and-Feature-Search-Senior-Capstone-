{
 "cells": [
  {
   "cell_type": "markdown",
   "metadata": {},
   "source": [
    "<h1> Tokenization and Removing Stop Words </h1>"
   ]
  },
  {
   "cell_type": "code",
   "execution_count": null,
   "metadata": {},
   "outputs": [],
   "source": [
    "import spacy\n",
    "import nltk.classify.util\n",
    "from nltk.corpus import stopwords\n",
    "from nltk.classify import NaiveBayesClassifier\n",
    "from nltk.tokenize import word_tokenize\n",
    "from nltk.corpus import wordnet\n",
    "from sklearn.linear_model import LogisticRegression\n",
    "from sklearn import metrics\n",
    "from sklearn.feature_extraction.text import CountVectorizer\n",
    "#from sklearn.cross_validation import cross_val_score\n",
    "from nltk.tokenize import RegexpTokenizer\n",
    "import sys\n",
    "sys.path.append('/Users/Work/Documents/College/Senior/Senior Seminar/Main/virtualenv/lib/python3.6/site-packages')\n",
    "\n",
    "def Pos_Sort(input):\n",
    "    pos = []\n",
    "    neg = []\n",
    "    file = open(input, \"r\")\n",
    "    for line in file:\n",
    "\n",
    "        if \"\\t1\\n\" in line:\n",
    "            pos.append(line.lower())\n",
    "    pos = {x.replace('\\t1\\n', '') for x in pos}\n",
    "    fin_pos = []\n",
    "    dictionary = []\n",
    "    dicpos = {'key': 'value'}\n",
    "    useful_words = []\n",
    "    for review in pos:\n",
    "        tokenizer = RegexpTokenizer(\"[\\w']+\")\n",
    "        useful_words = [word for word in tokenizer.tokenize(review) if word not in stopwords.words(\"english\")]\n",
    "        #useful_words = tokenizer.tokenize(useful_words)\n",
    "        fin_pos.append(useful_words)\n",
    "        dictionary.append((dict([(word, True) for word in useful_words]), \"positive\")) \n",
    "    print(fin_pos)\n",
    "    return dictionary\n",
    "\n",
    "def Neg_Sort(input):\n",
    "    neg = []\n",
    "    file = open(input, \"r\")\n",
    "    for line in file:\n",
    "        if \"\\t0\\n\" in line:\n",
    "            neg.append(line.lower())\n",
    "    neg = {x.replace('\\t0\\n', '') for x in neg}\n",
    "    fin_neg = []\n",
    "    dictionary = []\n",
    "    dicpos = {'key': 'value'}\n",
    "    useful_words = []\n",
    "    print(neg)\n",
    "\n",
    "    for review in neg:\n",
    "        tokenizer = RegexpTokenizer(\"[\\w']+\")\n",
    "        useful_words = [word for word in tokenizer.tokenize(review) if word not in stopwords.words(\"english\")]\n",
    "        # useful_words = tokenizer.tokenize(useful_words)\n",
    "        fin_neg.append(useful_words)\n",
    "        dictionary.append((dict([(word, True) for word in useful_words]), 'negative')) \n",
    "    return dictionary\n",
    " \n",
    "if __name__ == '__main__':\n",
    "    file = \"sentiment_labelled_sentences/yelp_labelled.txt\"\n",
    "    pos = Pos_Sort(file)\n",
    "    neg = Neg_Sort(file)\n",
    "    #print(len(neg))\n",
    "    #print(len(pos))\n",
    "    print(neg[:3])\n",
    "    train_set = neg[:400] + pos[:400]\n",
    "    test_set = neg[400:] + pos[400:]\n",
    "    print(len(train_set), len(test_set))\n",
    "    classifier = NaiveBayesClassifier.train(train_set)\n",
    "    accuracy = nltk.classify.util.accuracy(classifier, test_set)\n",
    "    print(accuracy * 100)\n",
    "\n",
    "#SortAndTokenize(input)\n",
    "\n"
   ]
  },
  {
   "cell_type": "markdown",
   "metadata": {},
   "source": [
    "<h1> Tokenization and Minimal Removal of Stop Words</h1>"
   ]
  },
  {
   "cell_type": "code",
   "execution_count": 1,
   "metadata": {},
   "outputs": [
    {
     "name": "stdout",
     "output_type": "stream",
     "text": [
      "[['this', 'is', 'a', 'really', 'fantastic', 'thai', 'restaurant', 'which', 'is', 'definitely', 'worth', 'a', 'visit'], ['the', 'sweet', 'potato', 'fries', 'were', 'very', 'good', 'and', 'seasoned', 'well'], ['the', 'grilled', 'chicken', 'was', 'so', 'tender', 'and', 'yellow', 'from', 'the', 'saffron', 'seasoning'], ['so', 'good', 'i', 'am', 'going', 'to', 'have', 'to', 'review', 'this', 'place', 'twice', 'once', 'hereas', 'a', 'tribute', 'to', 'the', 'place', 'and', 'once', 'as', 'a', 'tribute', 'to', 'an', 'event', 'held', 'here', 'last', 'night'], ['last', 'night', 'was', 'my', 'second', 'time', 'dining', 'here', 'and', 'i', 'was', 'so', 'happy', 'i', 'decided', 'to', 'go', 'back'], ['this', 'place', 'is', 'good'], ['our', 'server', 'was', 'super', 'nice', 'and', 'checked', 'on', 'us', 'many', 'times'], ['i', 'want', 'to', 'first', 'say', 'our', 'server', 'was', 'great', 'and', 'we', 'had', 'perfect', 'service'], ['they', 'really', 'want', 'to', 'make', 'your', 'experience', 'a', 'good', 'one'], ['join', 'the', 'club', 'and', 'get', 'awesome', 'offers', 'via', 'email'], ['great', 'service', 'and', 'food'], ['their', 'steaks', 'are', '100', 'recommended'], ['this', 'is', 'some', 'seriously', 'good', 'pizza', 'and', \"i'm\", 'an', 'expert', 'connisseur', 'on', 'the', 'topic'], ['i', 'got', 'to', 'enjoy', 'the', 'seafood', 'salad', 'with', 'a', 'fabulous', 'vinegrette'], ['this', 'place', 'was', 'such', 'a', 'nice', 'surprise'], ['and', 'service', 'was', 'super', 'friendly'], ['they', 'had', 'a', 'toro', 'tartare', 'with', 'a', 'cavier', 'that', 'was', 'extraordinary', 'and', 'i', 'liked', 'the', 'thinly', 'sliced', 'wagyu', 'with', 'white', 'truffle'], ['the', 'han', 'nan', 'chicken', 'was', 'also', 'very', 'tasty'], ['i', 'always', 'order', 'from', 'the', 'vegetarian', 'menu', 'during', 'dinner', 'which', 'has', 'a', 'wide', 'array', 'of', 'options', 'to', 'choose', 'from'], ['i', 'found', 'this', 'place', 'by', 'accident', 'and', 'i', 'could', 'not', 'be', 'happier'], ['the', 'service', 'was', 'outshining', 'i', 'definitely', 'recommend', 'the', 'halibut'], ['the', 'roast', 'beef', 'sandwich', 'tasted', 'really', 'good'], ['this', \"isn't\", 'a', 'small', 'family', 'restaurant', 'this', 'is', 'a', 'fine', 'dining', 'establishment'], ['my', 'drink', 'was', 'never', 'empty', 'and', 'he', 'made', 'some', 'really', 'great', 'menu', 'suggestions'], ['reasonably', 'priced', 'also'], ['5', 'stars', 'for', 'the', 'brick', 'oven', 'bread', 'app'], ['they', 'know', 'how', 'to', 'make', 'them', 'here'], ['phenomenal', 'food', 'service', 'and', 'ambiance'], ['will', 'definitely', 'be', 'back'], ['so', 'absolutley', 'fantastic'], ['these', 'were', 'so', 'good', 'we', 'ordered', 'them', 'twice'], ['definitely', 'will', 'come', 'back', 'here', 'again'], ['penne', 'vodka', 'excellent'], ['the', 'steaks', 'are', 'all', 'well', 'trimmed', 'and', 'also', 'perfectly', 'cooked'], ['great', 'atmosphere', 'friendly', 'and', 'fast', 'service'], ['i', 'loved', 'their', 'mussels', 'cooked', 'in', 'this', 'wine', 'reduction', 'the', 'duck', 'was', 'tender', 'and', 'their', 'potato', 'dishes', 'were', 'delicious'], ['they', 'have', 'a', 'really', 'nice', 'atmosphere'], ['every', 'time', 'i', 'eat', 'here', 'i', 'see', 'caring', 'teamwork', 'to', 'a', 'professional', 'degree'], ['i', \"don't\", 'have', 'very', 'many', 'words', 'to', 'say', 'about', 'this', 'place', 'but', 'it', 'does', 'everything', 'pretty', 'well'], ['i', 'really', 'do', 'recommend', 'this', 'place', 'you', 'can', 'go', 'wrong', 'with', 'this', 'donut', 'place'], ['prices', 'are', 'very', 'reasonable', 'flavors', 'are', 'spot', 'on', 'the', 'sauce', 'is', 'home', 'made', 'and', 'the', 'slaw', 'is', 'not', 'drenched', 'in', 'mayo'], ['the', 'staff', 'are', 'great', 'the', 'ambiance', 'is', 'great'], [\"i'll\", 'definitely', 'be', 'in', 'soon', 'again'], ['nice', 'ambiance'], ['service', 'was', 'exceptional', 'and', 'food', 'was', 'a', 'good', 'as', 'all', 'the', 'reviews'], ['that', 'said', 'our', 'mouths', 'and', 'bellies', 'were', 'still', 'quite', 'pleased'], ['as', 'for', 'the', 'service', \"i'm\", 'a', 'fan', 'because', \"it's\", 'quick', 'and', \"you're\", 'being', 'served', 'by', 'some', 'nice', 'folks'], ['and', 'the', 'chef', 'was', 'generous', 'with', 'his', 'time', 'even', 'came', 'around', 'twice', 'so', 'we', 'can', 'take', 'pictures', 'with', 'him'], ['the', 'owners', 'are', 'super', 'friendly', 'and', 'the', 'staff', 'is', 'courteous'], ['i', 'had', 'the', 'opportunity', 'today', 'to', 'sample', 'your', 'amazing', 'pizzas'], ['there', 'was', 'a', 'warm', 'feeling', 'with', 'the', 'service', 'and', 'i', 'felt', 'like', 'their', 'guest', 'for', 'a', 'special', 'treat'], [\"it's\", 'close', 'to', 'my', 'house', \"it's\", 'low', 'key', 'non', 'fancy', 'affordable', 'prices', 'good', 'food'], ['i', \"didn't\", 'know', 'pulled', 'pork', 'could', 'be', 'soooo', 'delicious'], ['the', 'wontons', 'were', 'thin', 'not', 'thick', 'and', 'chewy', 'almost', 'melt', 'in', 'your', 'mouth'], ['some', 'may', 'say', 'this', 'buffet', 'is', 'pricey', 'but', 'i', 'think', 'you', 'get', 'what', 'you', 'pay', 'for', 'and', 'this', 'place', 'you', 'are', 'getting', 'quite', 'a', 'lot'], ['this', 'was', 'my', 'first', 'and', 'only', 'vegas', 'buffet', 'and', 'it', 'did', 'not', 'disappoint'], ['the', 'chips', 'and', 'sals', 'a', 'here', 'is', 'amazing'], ['one', 'of', 'the', 'few', 'places', 'in', 'phoenix', 'that', 'i', 'would', 'definately', 'go', 'back', 'to', 'again'], ['of', 'all', 'the', 'dishes', 'the', 'salmon', 'was', 'the', 'best', 'but', 'all', 'were', 'great'], ['it', 'was', 'absolutely', 'amazing'], [\"it's\", 'worth', 'driving', 'up', 'from', 'tucson'], ['cute', 'quaint', 'simple', 'honest'], ['the', 'food', 'was', 'very', 'good'], ['a', 'couple', 'of', 'months', 'later', 'i', 'returned', 'and', 'had', 'an', 'amazing', 'meal'], ['our', 'server', 'was', 'very', 'nice', 'and', 'even', 'though', 'he', 'looked', 'a', 'little', 'overwhelmed', 'with', 'all', 'of', 'our', 'needs', 'he', 'stayed', 'professional', 'and', 'friendly', 'until', 'the', 'end'], ['the', 'shrimp', 'tender', 'and', 'moist'], ['they', 'also', 'have', 'the', 'best', 'cheese', 'crisp', 'in', 'town'], ['the', 'waitress', 'was', 'friendly', 'and', 'happy', 'to', 'accomodate', 'for', 'vegan', 'veggie', 'options'], ['the', 'food', 'was', 'delicious', 'our', 'bartender', 'was', 'attentive', 'and', 'personable', 'and', 'we', 'got', 'a', 'great', 'deal'], ['on', 'the', 'up', 'side', 'their', 'cafe', 'serves', 'really', 'good', 'food'], ['the', 'guys', 'all', 'had', 'steaks', 'and', 'our', 'steak', 'loving', 'son', 'who', 'has', 'had', 'steak', 'at', 'the', 'best', 'and', 'worst', 'places', 'said', 'it', 'was', 'the', 'best', 'steak', \"he's\", 'ever', 'eaten'], ['i', 'would', 'recommend', 'saving', 'room', 'for', 'this'], ['if', \"you're\", 'not', 'familiar', 'check', 'it', 'out'], ['special', 'thanks', 'to', 'dylan', 't', 'for', 'the', 'recommendation', 'on', 'what', 'to', 'order', 'all', 'yummy', 'for', 'my', 'tummy'], ['always', 'a', 'great', 'time', 'at', 'dos', 'gringos'], ['a', 'great', 'way', 'to', 'finish', 'a', 'great'], ['the', 'veggitarian', 'platter', 'is', 'out', 'of', 'this', 'world'], ['this', 'place', 'is', 'hands', 'down', 'one', 'of', 'the', 'best', 'places', 'to', 'eat', 'in', 'the', 'phoenix', 'metro', 'area'], ['oh', 'this', 'is', 'such', 'a', 'thing', 'of', 'beauty', 'this', 'restaurant'], ['good', 'beer', 'drink', 'selection', 'and', 'good', 'food', 'selection'], ['my', 'side', 'greek', 'salad', 'with', 'the', 'greek', 'dressing', 'was', 'so', 'tasty', 'and', 'the', 'pita', 'and', 'hummus', 'was', 'very', 'refreshing'], ['ample', 'portions', 'and', 'good', 'prices'], ['the', 'jalapeno', 'bacon', 'is', 'soooo', 'good'], ['both', 'of', 'the', 'egg', 'rolls', 'were', 'fantastic'], ['all', 'in', 'all', 'i', 'can', 'assure', 'you', \"i'll\", 'be', 'back'], ['not', 'to', 'mention', 'the', 'combination', 'of', 'pears', 'almonds', 'and', 'bacon', 'is', 'a', 'big', 'winner'], ['bacon', 'is', 'hella', 'salty'], ['best', 'tater', 'tots', 'in', 'the', 'southwest'], ['now', 'the', 'pizza', 'itself', 'was', 'good', 'the', 'peanut', 'sauce', 'was', 'very', 'tasty'], ['if', 'you', 'stay', 'in', 'vegas', 'you', 'must', 'get', 'breakfast', 'here', 'at', 'least', 'once'], [\"that's\", 'right', 'the', 'red', 'velvet', 'cake', 'ohhh', 'this', 'stuff', 'is', 'so', 'good'], ['the', 'owner', 'used', 'to', 'work', 'at', 'nobu', 'so', 'this', 'place', 'is', 'really', 'similar', 'for', 'half', 'the', 'price'], ['an', 'absolute', 'must', 'visit'], ['the', 'bartender', 'was', 'also', 'nice'], [\"i'm\", 'so', 'happy', 'to', 'be', 'here'], ['the', 'chefs', 'were', 'friendly', 'and', 'did', 'a', 'good', 'job'], ['never', 'had', 'anything', 'to', 'complain', 'about', 'here'], ['food', 'arrived', 'quickly'], ['what', 'a', 'great', 'double', 'cheeseburger'], ['the', 'deal', 'included', '5', 'tastings', 'and', '2', 'drinks', 'and', 'jeff', 'went', 'above', 'and', 'beyond', 'what', 'we', 'expected'], ['when', 'i', 'received', 'my', 'pita', 'it', 'was', 'huge', 'it', 'did', 'have', 'a', 'lot', 'of', 'meat', 'in', 'it', 'so', 'thumbs', 'up', 'there'], ['just', 'had', 'lunch', 'here', 'and', 'had', 'a', 'great', 'experience'], ['thus', 'far', 'have', 'only', 'visited', 'twice', 'and', 'the', 'food', 'was', 'absolutely', 'delicious', 'each', 'time'], ['also', 'there', 'are', 'combos', 'like', 'a', 'burger', 'fries', 'and', 'beer', 'for', '23', 'which', 'is', 'a', 'decent', 'deal'], ['ambience', 'is', 'perfect'], ['if', 'you', \"haven't\", 'gone', 'here', 'go', 'now'], ['my', 'first', 'visit', 'to', 'hiro', 'was', 'a', 'delight'], ['the', 'cow', 'tongue', 'and', 'cheek', 'tacos', 'are', 'amazing'], ['i', 'promise', 'they', \"won't\", 'disappoint'], ['i', 'love', 'this', 'place'], ['have', 'been', 'going', 'since', '2007', 'and', 'every', 'meal', 'has', 'been', 'awesome'], ['lastly', 'the', 'mozzarella', 'sticks', 'they', 'were', 'the', 'best', 'thing', 'we', 'ordered'], ['the', 'vanilla', 'ice', 'cream', 'was', 'creamy', 'and', 'smooth', 'while', 'the', 'profiterole', 'choux', 'pastry', 'was', 'fresh', 'enough'], ['the', 'only', 'good', 'thing', 'was', 'our', 'waiter', 'he', 'was', 'very', 'helpful', 'and', 'kept', 'the', 'bloddy', \"mary's\", 'coming'], [\"owner's\", 'are', 'really', 'great', 'people'], ['wow', 'very', 'spicy', 'but', 'delicious'], ['great', 'place', 'to', 'have', 'a', 'couple', 'drinks', 'and', 'watch', 'any', 'and', 'all', 'sporting', 'events', 'as', 'the', 'walls', 'are', 'covered', 'with', \"tv's\"], ['be', 'sure', 'to', 'order', 'dessert', 'even', 'if', 'you', 'need', 'to', 'pack', 'it', 'to', 'go', 'the', 'tiramisu', 'and', 'cannoli', 'are', 'both', 'to', 'die', 'for'], ['i', 'will', 'come', 'back', 'here', 'every', 'time', \"i'm\", 'in', 'vegas'], ['just', 'spicy', 'enough', 'perfect', 'actually'], ['all', 'the', 'bread', 'is', 'made', 'in', 'house'], ['talk', 'about', 'great', 'customer', 'service', 'of', 'course', 'we', 'will', 'be', 'back'], ['service', 'was', 'fantastic'], ['very', 'friendly', 'staff'], ['i', 'can', 'assure', 'you', 'that', 'you', \"won't\", 'be', 'disappointed'], ['great', 'food'], ['go', 'to', 'place', 'for', 'gyros'], ['if', 'you', 'love', 'authentic', 'mexican', 'food', 'and', 'want', 'a', 'whole', 'bunch', 'of', 'interesting', 'yet', 'delicious', 'meats', 'to', 'choose', 'from', 'you', 'need', 'to', 'try', 'this', 'place'], ['best', 'service', 'and', 'food', 'ever', 'maria', 'our', 'server', 'was', 'so', 'good', 'and', 'friendly', 'she', 'made', 'our', 'day'], ['service', 'is', 'quick', 'and', 'friendly'], ['great', 'place', 'to', 'relax', 'and', 'have', 'an', 'awesome', 'burger', 'and', 'beer'], ['i', 'had', 'a', 'pretty', 'satifying', 'experience'], ['the', 'seasonal', 'fruit', 'was', 'fresh', 'white', 'peach', 'puree'], ['their', 'menu', 'is', 'diverse', 'and', 'reasonably', 'priced'], ['my', 'friend', 'loved', 'the', 'salmon', 'tartar'], ['i', 'love', 'the', 'fact', 'that', 'everything', 'on', 'their', 'menu', 'is', 'worth', 'it'], ['each', 'day', 'of', 'the', 'week', 'they', 'have', 'a', 'different', 'deal', 'and', \"it's\", 'all', 'so', 'delicious'], ['if', 'you', 'want', 'a', 'sandwich', 'just', 'go', 'to', 'any', 'firehouse'], ['classy', 'warm', 'atmosphere', 'fun', 'and', 'fresh', 'appetizers', 'succulent', 'steaks', 'baseball', 'steak'], ['the', 'potatoes', 'were', 'great', 'and', 'so', 'was', 'the', 'biscuit'], ['this', 'wonderful', 'experience', 'made', 'this', 'place', 'a', 'must', 'stop', 'whenever', 'we', 'are', 'in', 'town', 'again'], ['service', 'was', 'very', 'prompt'], ['love', 'the', 'margaritas', 'too'], ['this', 'is', 'the', 'place', 'where', 'i', 'first', 'had', 'pho', 'and', 'it', 'was', 'amazing'], ['nice', 'spicy', 'and', 'tender'], ['the', 'greek', 'dressing', 'was', 'very', 'creamy', 'and', 'flavorful'], ['service', 'is', 'quick', 'and', 'even', 'to', 'go', 'orders', 'are', 'just', 'like', 'we', 'like', 'it'], ['level', '5', 'spicy', 'was', 'perfect', 'where', 'spice', \"didn't\", 'over', 'whelm', 'the', 'soup'], ['i', 'ordered', 'the', 'lemon', 'raspberry', 'ice', 'cocktail', 'which', 'was', 'also', 'incredible'], ['everyone', 'is', 'very', 'attentive', 'providing', 'excellent', 'customer', 'service'], ['always', 'a', 'pleasure', 'dealing', 'with', 'him'], ['i', \"don't\", 'know', 'what', 'kind', 'it', 'is', 'but', 'they', 'have', 'the', 'best', 'iced', 'tea'], ['i', 'did', 'not', 'expect', 'this', 'to', 'be', 'so', 'good'], ['sooooo', 'good'], ['i', 'could', 'care', 'less', 'the', 'interior', 'is', 'just', 'beautiful'], ['it', 'is', 'perfect', 'for', 'a', 'sit', 'down', 'family', 'meal', 'or', 'get', 'together', 'with', 'a', 'few', 'friends'], ['this', 'place', 'is', 'amazing'], ['i', 'ordered', 'the', 'voodoo', 'pasta', 'and', 'it', 'was', 'the', 'first', 'time', \"i'd\", 'had', 'really', 'excellent', 'pasta', 'since', 'going', 'gluten', 'free', 'several', 'years', 'ago'], ['service', 'is', 'perfect', 'and', 'the', 'family', 'atmosphere', 'is', 'nice', 'to', 'see'], ['i', 'love', 'that', 'they', 'put', 'their', 'food', 'in', 'nice', 'plastic', 'containers', 'as', 'opposed', 'to', 'cramming', 'it', 'in', 'little', 'paper', 'takeout', 'boxes'], ['the', 'lighting', 'is', 'just', 'dark', 'enough', 'to', 'set', 'the', 'mood'], ['on', 'a', 'positive', 'note', 'our', 'server', 'was', 'very', 'attentive', 'and', 'provided', 'great', 'service'], ['i', 'really', 'enjoyed', 'crema', 'café', 'before', 'they', 'expanded', 'i', 'even', 'told', 'friends', 'they', 'had', 'the', 'best', 'breakfast'], ['this', 'is', 'one', 'of', 'the', 'best', 'bars', 'with', 'food', 'in', 'vegas'], ['great', 'place', 'fo', 'take', 'out', 'or', 'eat', 'in'], ['they', 'were', 'golden', 'crispy', 'and', 'delicious'], ['you', 'can', 'watch', 'them', 'preparing', 'the', 'delicious', 'food'], ['i', 'loved', 'the', 'grilled', 'pizza', 'reminded', 'me', 'of', 'legit', 'italian', 'pizza'], ['a', 'great', 'touch'], ['the', 'croutons', 'also', 'taste', 'homemade', 'which', 'is', 'an', 'extra', 'plus'], ['the', 'block', 'was', 'amazing'], ['would', 'come', 'back', 'again', 'if', 'i', 'had', 'a', 'sushi', 'craving', 'while', 'in', 'vegas'], ['def', 'coming', 'back', 'to', 'bowl', 'next', 'time'], ['on', 'the', 'good', 'side', 'the', 'staff', 'was', 'genuinely', 'pleasant', 'and', 'enthusiastic', 'a', 'real', 'treat'], ['the', 'ambiance', 'was', 'incredible'], ['great', 'food', 'for', 'the', 'price', 'which', 'is', 'very', 'high', 'quality', 'and', 'house', 'made'], ['this', 'is', 'a', 'good', 'joint'], ['the', 'only', 'thing', 'i', 'did', 'like', 'was', 'the', 'prime', 'rib', 'and', 'dessert', 'section'], ['i', 'had', 'a', 'seriously', 'solid', 'breakfast', 'here'], ['conclusion', 'very', 'filling', 'meals'], ['we', 'were', 'promptly', 'greeted', 'and', 'seated'], ['the', 'steak', 'was', 'amazing', 'rge', 'fillet', 'relleno', 'was', 'the', 'best', 'seafood', 'plate', 'i', 'have', 'ever', 'had'], [\"i'd\", 'say', 'that', 'would', 'be', 'the', 'hardest', 'decision', 'honestly', 'all', 'of', \"m's\", 'dishes', 'taste', 'how', 'they', 'are', 'supposed', 'to', 'taste', 'amazing'], ['im', 'in', 'az', 'all', 'the', 'time', 'and', 'now', 'have', 'my', 'new', 'spot'], ['the', 'portion', 'was', 'huge'], ['the', 'pancake', 'was', 'also', 'really', 'good', 'and', 'pretty', 'large', 'at', 'that'], ['so', 'they', 'performed'], ['the', 'food', 'is', 'good'], ['good', 'service', 'very', 'clean', 'and', 'inexpensive', 'to', 'boot'], ['great', 'food', 'and', 'service', 'huge', 'portions', 'and', 'they', 'give', 'a', 'military', 'discount'], ['i', 'tried', 'the', 'cape', 'cod', 'ravoli', 'chicken', 'with', 'cranberry', 'mmmm'], ['four', 'stars', 'for', 'the', 'food', 'the', 'guy', 'in', 'the', 'blue', 'shirt', 'for', 'his', 'great', 'vibe', 'still', 'letting', 'us', 'in', 'to', 'eat'], ['great', 'place', 'to', 'eat', 'reminds', 'me', 'of', 'the', 'little', 'mom', 'and', 'pop', 'shops', 'in', 'the', 'san', 'francisco', 'bay', 'area'], ['i', 'have', 'eaten', 'here', 'multiple', 'times', 'and', 'each', 'time', 'the', 'food', 'was', 'delicious'], ['this', 'place', 'is', 'great'], ['an', 'excellent', 'new', 'restaurant', 'by', 'an', 'experienced', 'frenchman'], ['will', 'be', 'back', 'again'], ['we', 'definately', 'enjoyed', 'ourselves'], ['it', 'is', 'worth', 'the', 'drive'], ['waitress', 'was', 'sweet', 'and', 'funny'], ['great', 'food', 'and', 'awesome', 'service'], ['great', 'steak', 'great', 'sides', 'great', 'wine', 'amazing', 'desserts'], ['cooked', 'to', 'perfection', 'and', 'the', 'service', 'was', 'impeccable'], ['i', 'heart', 'this', 'place'], ['only', 'pros', 'large', 'seating', 'area', 'nice', 'bar', 'area', 'great', 'simple', 'drink', 'menu', 'the', 'best', 'brick', 'oven', 'pizza', 'with', 'homemade', 'dough'], ['pretty', 'awesome', 'place'], ['you', \"won't\", 'be', 'disappointed'], ['this', 'place', 'receives', 'stars', 'for', 'their', 'appetizers'], ['nicest', 'chinese', 'restaurant', \"i've\", 'been', 'in', 'a', 'while'], ['the', 'sides', 'are', 'delish', 'mixed', 'mushrooms', 'yukon', 'gold', 'puree', 'white', 'corn', 'beateous'], ['overall', 'a', 'great', 'experience'], ['the', 'decor', 'is', 'nice', 'and', 'the', 'piano', 'music', 'soundtrack', 'is', 'pleasant'], ['this', 'was', 'my', 'first', 'crawfish', 'experience', 'and', 'it', 'was', 'delicious'], ['the', 'food', 'was', 'excellent', 'and', 'service', 'was', 'very', 'good'], ['the', 'goat', 'taco', \"didn't\", 'skimp', 'on', 'the', 'meat', 'and', 'wow', 'what', 'flavor'], ['this', 'place', 'has', 'it'], ['i', 'have', 'been', 'here', 'several', 'times', 'in', 'the', 'past', 'and', 'the', 'experience', 'has', 'always', 'been', 'great'], ['high', 'quality', 'chicken', 'on', 'the', 'chicken', 'caesar', 'salad'], ['as', 'always', 'the', 'evening', 'was', 'wonderful', 'and', 'the', 'food', 'delicious'], ['service', 'is', 'also', 'cute'], ['i', 'also', 'had', 'to', 'taste', 'my', \"mom's\", 'multi', 'grain', 'pumpkin', 'pancakes', 'with', 'pecan', 'butter', 'and', 'they', 'were', 'amazing', 'fluffy', 'and', 'delicious'], ['awesome', 'selection', 'of', 'beer'], ['i', 'like', 'steiners', 'because', \"it's\", 'dark', 'and', 'it', 'feels', 'like', 'a', 'bar'], ['the', 'restaurant', 'is', 'very', 'clean', 'and', 'has', 'a', 'family', 'restaurant', 'feel', 'to', 'it'], ['omelets', 'are', 'to', 'die', 'for'], ['we', 'walked', 'away', 'stuffed', 'and', 'happy', 'about', 'our', 'first', 'vegas', 'buffet', 'experience'], ['so', 'we', 'went', 'to', 'tigerlilly', 'and', 'had', 'a', 'fantastic', 'afternoon'], ['i', 'can', 'say', 'that', 'the', 'desserts', 'were', 'yummy'], ['and', 'considering', 'the', 'two', 'of', 'us', 'left', 'there', 'very', 'full', 'and', 'happy', 'for', 'about', '20', 'you', 'just', \"can't\", 'go', 'wrong'], ['i', 'loved', 'it'], ['the', 'bathroom', 'is', 'just', 'next', 'door', 'and', 'very', 'nice'], ['delicious'], ['when', \"i'm\", 'on', 'this', 'side', 'of', 'town', 'this', 'will', 'definitely', 'be', 'a', 'spot', \"i'll\", 'hit', 'up', 'again'], ['this', 'place', 'is', 'two', 'thumbs', 'up', 'way', 'up'], ['we', 'are', 'so', 'glad', 'we', 'found', 'this', 'place'], ['the', 'staff', 'is', 'always', 'super', 'friendly', 'and', 'helpful', 'which', 'is', 'especially', 'cool', 'when', 'you', 'bring', 'two', 'small', 'boys', 'and', 'a', 'baby'], ['that', 'just', 'screams', 'legit', 'in', 'my', 'book', \"somethat's\", 'also', 'pretty', 'rare', 'here', 'in', 'vegas'], [\"it'll\", 'be', 'a', 'regular', 'stop', 'on', 'my', 'trips', 'to', 'phoenix'], ['the', 'food', 'was', 'very', 'good', 'and', 'i', 'enjoyed', 'every', 'mouthful', 'an', 'enjoyable', 'relaxed', 'venue', 'for', 'couples', 'small', 'family', 'groups', 'etc'], ['this', 'is', 'a', 'great', 'restaurant', 'at', 'the', 'mandalay', 'bay'], ['i', 'recently', 'tried', \"caballero's\", 'and', 'i', 'have', 'been', 'back', 'every', 'week', 'since'], ['it', 'was', 'delicious'], ['i', 'love', 'the', 'owner', 'chef', 'his', 'one', 'authentic', 'japanese', 'cool', 'dude'], ['the', 'fries', 'were', 'great', 'too'], ['the', 'best', 'place', 'to', 'go', 'for', 'a', 'tasty', 'bowl', 'of', 'pho'], ['the', 'crêpe', 'was', 'delicate', 'and', 'thin', 'and', 'moist'], ['will', 'go', 'back', 'next', 'trip', 'out'], ['update', 'went', 'back', 'for', 'a', 'second', 'time', 'and', 'it', 'was', 'still', 'just', 'as', 'amazing'], ['great', 'food', 'and', 'great', 'service', 'in', 'a', 'clean', 'and', 'friendly', 'setting'], ['the', 'menu', 'had', 'so', 'much', 'good', 'stuff', 'on', 'it', 'i', 'could', 'not', 'decide'], ['some', 'highlights', 'great', 'quality', 'nigiri', 'here'], ['the', 'patio', 'seating', 'was', 'very', 'comfortable'], ['great', 'pizza', 'and', 'salads'], ['fantastic', 'service', 'here'], ['this', 'was', 'a', 'different', 'cut', 'than', 'the', 'piece', 'the', 'other', 'day', 'but', 'still', 'wonderful', 'and', 'tender', 's', 'well', 'as', 'well', 'flavored'], ['this', 'is', 'an', 'unbelievable', 'bargain'], ['their', 'rotating', 'beers', 'on', 'tap', 'is', 'also', 'a', 'highlight', 'of', 'this', 'place'], ['good', 'service', 'check'], ['the', 'staff', 'is', 'super', 'nice', 'and', 'very', 'quick', 'even', 'with', 'the', 'crazy', 'crowds', 'of', 'the', 'downtown', 'juries', 'lawyers', 'and', 'court', 'staff'], ['omg', 'the', 'food', 'was', 'delicioso'], ['fantastic', 'food'], ['they', 'were', 'excellent'], ['we', 'had', '7', 'at', 'our', 'table', 'and', 'the', 'service', 'was', 'pretty', 'fast'], ['very', 'good', 'though'], ['i', 'love', 'their', 'fries', 'and', 'their', 'beans'], ['service', 'was', 'fine', 'and', 'the', 'waitress', 'was', 'friendly'], ['to', 'summarize', 'the', 'food', 'was', 'incredible', 'nay', 'transcendant', 'but', 'nothing', 'brings', 'me', 'joy', 'quite', 'like', 'the', 'memory', 'of', 'the', 'pneumatic', 'condiment', 'dispenser'], ['loved', 'it', 'friendly', 'servers', 'great', 'food', 'wonderful', 'and', 'imaginative', 'menu'], [\"it's\", 'a', 'great', 'place', 'and', 'i', 'highly', 'recommend', 'it'], ['the', 'nachos', 'are', 'a', 'must', 'have'], ['today', 'is', 'the', 'second', 'time', \"i've\", 'been', 'to', 'their', 'lunch', 'buffet', 'and', 'it', 'was', 'pretty', 'good'], ['check', 'it', 'out'], ['we', 'had', 'fantastic', 'service', 'and', 'were', 'pleased', 'by', 'the', 'atmosphere'], ['the', 'service', 'was', 'great', 'even', 'the', 'manager', 'came', 'and', 'helped', 'with', 'our', 'table'], ['the', 'inside', 'is', 'really', 'quite', 'nice', 'and', 'very', 'clean'], ['service', 'was', 'good', 'and', 'the', 'company', 'was', 'better'], ['best', 'breakfast', 'buffet'], ['the', 'staff', 'is', 'friendly', 'and', 'the', 'joint', 'is', 'always', 'clean'], ['the', 'waitresses', 'are', 'very', 'friendly'], ['their', 'chow', 'mein', 'is', 'so', 'good'], ['food', 'was', 'really', 'good', 'and', 'i', 'got', 'full', 'petty', 'fast'], ['food', 'was', 'delicious'], ['the', 'staff', 'was', 'very', 'attentive'], ['for', 'sushi', 'on', 'the', 'strip', 'this', 'is', 'the', 'place', 'to', 'go'], ['in', 'an', 'interesting', 'part', 'of', 'town', 'this', 'place', 'is', 'amazing'], ['no', 'complaints'], ['everything', 'on', 'the', 'menu', 'is', 'terrific', 'and', 'we', 'were', 'also', 'thrilled', 'that', 'they', 'made', 'amazing', 'accommodations', 'for', 'our', 'vegetarian', 'daughter'], ['this', 'hole', 'in', 'the', 'wall', 'has', 'great', 'mexican', 'street', 'tacos', 'and', 'friendly', 'staff'], ['we', 'had', 'a', 'group', 'of', '70', 'when', 'we', 'claimed', 'we', 'would', 'only', 'have', '40', 'and', 'they', 'handled', 'us', 'beautifully'], ['so', 'flavorful', 'and', 'has', 'just', 'the', 'perfect', 'amount', 'of', 'heat'], ['delicious', 'nyc', 'bagels', 'good', 'selections', 'of', 'cream', 'cheese', 'real', 'lox', 'with', 'capers', 'even'], ['this', 'was', 'my', 'first', 'time', 'and', 'i', \"can't\", 'wait', 'until', 'the', 'next'], ['one', 'nice', 'thing', 'was', 'that', 'they', 'added', 'gratuity', 'on', 'the', 'bill', 'since', 'our', 'party', 'was', 'larger', 'than', '6', 'or', '8', 'and', 'they', \"didn't\", 'expect', 'more', 'tip', 'than', 'that'], ['i', 'love', 'the', 'pho', 'and', 'the', 'spring', 'rolls', 'oh', 'so', 'yummy', 'you', 'have', 'to', 'try'], ['everyone', 'is', 'treated', 'equally', 'special'], ['best', 'tacos', 'in', 'town', 'by', 'far'], ['we', 'loved', 'the', 'place'], ['the', 'pizza', 'selections', 'are', 'good'], ['hawaiian', 'breeze', 'mango', 'magic', 'and', 'pineapple', 'delight', 'are', 'the', 'smoothies', 'that', \"i've\", 'tried', 'so', 'far', 'and', \"they're\", 'all', 'good'], ['good', 'food', 'good', 'service'], ['the', 'jamaican', 'mojitos', 'are', 'delicious'], ['highly', 'recommended'], ['a', 'fantastic', 'neighborhood', 'gem'], ['the', 'restaurant', 'atmosphere', 'was', 'exquisite'], ['the', 'ambience', 'is', 'wonderful', 'and', 'there', 'is', 'music', 'playing'], ['kids', 'pizza', 'is', 'always', 'a', 'hit', 'too', 'with', 'lots', 'of', 'great', 'side', 'dish', 'options', 'for', 'the', 'kiddos'], ['i', 'had', 'a', 'salad', 'with', 'the', 'wings', 'and', 'some', 'ice', 'cream', 'for', 'dessert', 'and', 'left', 'feeling', 'quite', 'satisfied'], ['these', 'are', 'the', 'nicest', 'restaurant', 'owners', \"i've\", 'ever', 'come', 'across'], ['at', 'first', 'glance', 'it', 'is', 'a', 'lovely', 'bakery', 'cafe', 'nice', 'ambiance', 'clean', 'friendly', 'staff'], ['the', 'bathrooms', 'are', 'clean', 'and', 'the', 'place', 'itself', 'is', 'well', 'decorated'], ['the', 'macarons', 'here', 'are', 'insanely', 'good'], ['good', 'value', 'great', 'food', 'great', 'service'], ['good', 'prices'], ['this', 'is', 'one', 'of', 'the', 'better', 'buffets', 'that', 'i', 'have', 'been', 'to'], ['i', 'went', 'to', 'bachi', 'burger', 'on', 'a', \"friend's\", 'recommendation', 'and', 'was', 'not', 'disappointed'], ['both', 'of', 'them', 'were', 'truly', 'unbelievably', 'good', 'and', 'i', 'am', 'so', 'glad', 'we', 'went', 'back'], ['come', 'hungry', 'leave', 'happy', 'and', 'stuffed'], ['service', 'is', 'friendly', 'and', 'inviting'], ['the', 'waitress', 'and', 'manager', 'are', 'so', 'friendly'], ['you', \"can't\", 'beat', 'that'], ['it', 'was', 'just', 'not', 'a', 'fun', 'experience'], ['perfect', 'for', 'someone', 'me', 'who', 'only', 'likes', 'beer', 'ice', 'cold', 'or', 'in', 'this', 'case', 'even', 'colder'], ['stopped', 'by', 'during', 'the', 'late', 'may', 'bank', 'holiday', 'off', 'rick', 'steve', 'recommendation', 'and', 'loved', 'it'], ['give', 'it', 'a', 'try', 'you', 'will', 'be', 'happy', 'you', 'did'], ['my', 'boyfriend', 'and', 'i', 'sat', 'at', 'the', 'bar', 'and', 'had', 'a', 'completely', 'delightful', 'experience'], ['anyway', 'this', 'fs', 'restaurant', 'has', 'a', 'wonderful', 'breakfast', 'lunch'], ['this', 'is', 'an', 'outstanding', 'little', 'restaurant', 'with', 'some', 'of', 'the', 'best', 'food', 'i', 'have', 'ever', 'tasted'], ['i', 'would', 'definitely', 'recommend', 'the', 'wings', 'as', 'well', 'as', 'the', 'pizza'], ['point', 'your', 'finger', 'at', 'any', 'item', 'on', 'the', 'menu', 'order', 'it', 'and', 'you', \"won't\", 'be', 'disappointed'], ['food', 'was', 'good', 'service', 'was', 'good', 'prices', 'were', 'good'], ['the', 'staff', 'are', 'also', 'very', 'friendly', 'and', 'efficient'], ['the', 'sweet', 'potato', 'tots', 'were', 'good', 'but', 'the', 'onion', 'rings', 'were', 'perfection', 'or', 'as', 'close', 'as', 'i', 'have', 'had'], ['lordy', 'the', 'khao', 'soi', 'is', 'a', 'dish', 'that', 'is', 'not', 'to', 'be', 'missed', 'for', 'curry', 'lovers'], ['i', 'will', 'be', 'back', 'many', 'times', 'soon'], ['both', 'great'], ['great', 'brunch', 'spot'], ['the', 'black', 'eyed', 'peas', 'and', 'sweet', 'potatoes', 'unreal'], ['overall', 'i', 'like', 'there', 'food', 'and', 'the', 'service'], ['seriously', 'flavorful', 'delights', 'folks'], ['this', 'place', 'is', 'awesome', 'if', 'you', 'want', 'something', 'light', 'and', 'healthy', 'during', 'the', 'summer'], ['nice', 'blanket', 'of', 'moz', 'over', 'top', 'but', 'i', 'feel', 'like', 'this', 'was', 'done', 'to', 'cover', 'up', 'the', 'subpar', 'food'], ['i', 'was', 'seated', 'immediately'], ['the', 'price', 'is', 'reasonable', 'and', 'the', 'service', 'is', 'great'], ['just', 'as', 'good', 'as', 'when', 'i', 'had', 'it', 'more', 'than', 'a', 'year', 'ago'], ['i', 'hope', 'this', 'place', 'sticks', 'around'], ['i', 'love', 'the', 'decor', 'with', 'the', 'chinese', 'calligraphy', 'wall', 'paper'], ['we', 'thought', \"you'd\", 'have', 'to', 'venture', 'further', 'away', 'to', 'get', 'good', 'sushi', 'but', 'this', 'place', 'really', 'hit', 'the', 'spot', 'that', 'night'], ['pretty', 'good', 'beer', 'selection', 'too'], ['the', 'food', 'was', 'outstanding', 'and', 'the', 'prices', 'were', 'very', 'reasonable'], ['the', 'staff', 'is', 'great', 'the', 'food', 'is', 'delish', 'and', 'they', 'have', 'an', 'incredible', 'beer', 'selection'], ['great', 'time', 'family', 'dinner', 'on', 'a', 'sunday', 'night'], ['stopped', 'by', 'this', 'place', 'while', 'in', 'madison', 'for', 'the', 'ironman', 'very', 'friendly', 'kind', 'staff'], ['great', 'pork', 'sandwich'], ['the', 'yellowtail', 'carpaccio', 'was', 'melt', 'in', 'your', 'mouth', 'fresh'], ['i', 'gave', 'it', '5', 'stars', 'then', 'and', \"i'm\", 'giving', 'it', '5', 'stars', 'now'], ['i', 'really', 'enjoyed', 'eating', 'here'], ['the', 'classic', 'maine', 'lobster', 'roll', 'was', 'fantastic'], ['this', 'is', 'my', 'new', 'fav', 'vegas', 'buffet', 'spot'], ['love', 'this', 'place', 'hits', 'the', 'spot', 'when', 'i', 'want', 'something', 'healthy', 'but', 'not', 'lacking', 'in', 'quantity', 'or', 'flavor'], ['the', 'seafood', 'was', 'fresh', 'and', 'generous', 'in', 'portion'], ['the', 'atmosphere', 'is', 'modern', 'and', 'hip', 'while', 'maintaining', 'a', 'touch', 'of', 'coziness'], ['food', 'was', 'great', 'and', 'so', 'was', 'the', 'serivce'], ['in', 'the', 'summer', 'you', 'can', 'dine', 'in', 'a', 'charming', 'outdoor', 'patio', 'so', 'very', 'delightful'], ['i', 'personally', 'love', 'the', 'hummus', 'pita', 'baklava', 'falafels', 'and', 'baba', 'ganoush', \"it's\", 'amazing', 'what', 'they', 'do', 'with', 'eggplant'], ['awesome', 'service', 'and', 'food'], ['after', 'one', 'bite', 'i', 'was', 'hooked'], ['i', \"don't\", 'each', 'much', 'pasta', 'but', 'i', 'love', 'the', 'homemade', 'hand', 'made', 'pastas', 'and', 'thin', 'pizzas', 'here'], ['everything', 'was', 'good', 'and', 'tasty'], ['they', 'will', 'customize', 'your', 'order', 'any', 'way', \"you'd\", 'like', 'my', 'usual', 'is', 'eggplant', 'with', 'green', 'bean', 'stir', 'fry', 'love', 'it'], ['i', 'liked', 'the', 'patio', 'and', 'the', 'service', 'was', 'outstanding'], ['first', 'time', 'going', 'but', 'i', 'think', 'i', 'will', 'quickly', 'become', 'a', 'regular'], ['the', 'chips', 'and', 'salsa', 'were', 'really', 'good', 'the', 'salsa', 'was', 'very', 'fresh'], ['this', 'place', 'is', 'pretty', 'good', 'nice', 'little', 'vibe', 'in', 'the', 'restaurant'], ['server', 'did', 'a', 'great', 'job', 'handling', 'our', 'large', 'rowdy', 'table'], ['this', 'place', 'is', 'like', 'chipotle', 'but', 'better'], ['our', 'waiter', 'was', 'very', 'attentive', 'friendly', 'and', 'informative'], ['they', 'also', 'now', 'serve', 'indian', 'naan', 'bread', 'with', 'hummus', 'and', 'some', 'spicy', 'pine', 'nut', 'sauce', 'that', 'was', 'out', 'of', 'this', 'world'], ['the', 'dining', 'space', 'is', 'tiny', 'but', 'elegantly', 'decorated', 'and', 'comfortable'], ['went', 'in', 'for', 'happy', 'hour', 'great', 'list', 'of', 'wines'], ['everything', 'was', 'fresh', 'and', 'delicious'], ['the', 'cashier', 'was', 'friendly', 'and', 'even', 'brought', 'the', 'food', 'out', 'to', 'me'], ['my', 'fiancé', 'and', 'i', 'came', 'in', 'the', 'middle', 'of', 'the', 'day', 'and', 'we', 'were', 'greeted', 'and', 'seated', 'right', 'away'], ['cant', 'say', 'enough', 'good', 'things', 'about', 'this', 'place'], ['eclectic', 'selection'], ['food', 'was', 'so', 'gooodd'], ['the', 'only', 'redeeming', 'quality', 'of', 'the', 'restaurant', 'was', 'that', 'it', 'was', 'very', 'inexpensive'], [\"couldn't\", 'ask', 'for', 'a', 'more', 'satisfying', 'meal'], ['i', 'will', 'continue', 'to', 'come', 'here', 'on', 'ladies', 'night', 'andddd', 'date', 'night', 'highly', 'recommend', 'this', 'place', 'to', 'anyone', 'who', 'is', 'in', 'the', 'area'], ['also', 'were', 'served', 'hot', 'bread', 'and', 'butter', 'and', 'home', 'made', 'potato', 'chips', 'with', 'bacon', 'bits', 'on', 'top', 'very', 'original', 'and', 'very', 'good'], ['very', 'convenient', 'since', 'we', 'were', 'staying', 'at', 'the', 'mgm'], ['the', 'folks', 'at', 'otto', 'always', 'make', 'us', 'feel', 'so', 'welcome', 'and', 'special'], ['their', 'daily', 'specials', 'are', 'always', 'a', 'hit', 'with', 'my', 'group'], ['the', 'food', 'is', 'delicious', 'and', 'just', 'spicy', 'enough', 'so', 'be', 'sure', 'to', 'ask', 'for', 'spicier', 'if', 'you', 'prefer', 'it', 'that', 'way'], ['wonderful', 'lil', 'tapas', 'and', 'the', 'ambience', 'made', 'me', 'feel', 'all', 'warm', 'and', 'fuzzy', 'inside'], ['dessert', 'panna', 'cotta', 'was', 'amazing'], ['the', 'flair', 'bartenders', 'are', 'absolutely', 'amazing'], ['this', 'is', 'a', 'great', 'place', 'to', 'eat'], ['pretty', 'cool', 'i', 'would', 'say'], ['hands', 'down', 'my', 'favorite', 'italian', 'restaurant'], ['i', \"can't\", 'wait', 'to', 'go', 'back'], ['the', 'food', 'amazing'], ['the', 'best', 'place', 'in', 'vegas', 'for', 'breakfast', 'just', 'check', 'out', 'a', 'sat', 'or', 'sun'], ['the', 'burger', 'is', 'good', 'beef', 'cooked', 'just', 'right'], ['nargile', 'i', 'think', 'you', 'are', 'great'], ['i', 'could', 'eat', 'their', 'bruschetta', 'all', 'day', 'it', 'is', 'devine'], ['their', 'regular', 'toasted', 'bread', 'was', 'equally', 'satisfying', 'with', 'the', 'occasional', 'pats', 'of', 'butter', 'mmmm'], ['favorite', 'place', 'in', 'town', 'for', 'shawarrrrrrma'], ['the', 'atmosphere', 'here', 'is', 'fun'], ['generous', 'portions', 'and', 'great', 'taste'], ['both', 'the', 'hot', 'sour', 'the', 'egg', 'flower', 'soups', 'were', 'absolutely', '5', 'stars'], ['the', 'atmosphere', 'was', 'great', 'with', 'a', 'lovely', 'duo', 'of', 'violinists', 'playing', 'songs', 'we', 'requested'], ['the', 'selection', 'on', 'the', 'menu', 'was', 'great', 'and', 'so', 'were', 'the', 'prices'], ['what', 'i', 'really', 'like', 'there', 'is', 'the', 'crepe', 'station'], ['everything', 'was', 'perfect', 'the', 'night', 'we', 'were', 'in'], ['the', 'food', 'is', 'rich', 'so', 'order', 'accordingly'], ['once', 'you', 'get', 'inside', \"you'll\", 'be', 'impressed', 'with', 'the', 'place'], ['we', 'ordered', 'the', 'duck', 'rare', 'and', 'it', 'was', 'pink', 'and', 'tender', 'on', 'the', 'inside', 'with', 'a', 'nice', 'char', 'on', 'the', 'outside'], ['this', 'really', 'is', 'how', 'vegas', 'fine', 'dining', 'used', 'to', 'be', 'right', 'down', 'to', 'the', 'menus', 'handed', 'to', 'the', 'ladies', 'that', 'have', 'no', 'prices', 'listed'], ['from', 'what', 'my', 'dinner', 'companions', 'told', 'me', 'everything', 'was', 'very', 'fresh', 'with', 'nice', 'texture', 'and', 'taste'], ['if', 'you', 'want', 'healthy', 'authentic', 'or', 'ethic', 'food', 'try', 'this', 'place'], ['we', 'loved', 'the', 'biscuits'], ['i', 'loved', 'the', 'bacon', 'wrapped', 'dates'], ['i', 'believe', 'that', 'this', 'place', 'is', 'a', 'great', 'stop', 'for', 'those', 'with', 'a', 'huge', 'belly', 'and', 'hankering', 'for', 'sushi'], [\"it's\", 'like', 'a', 'really', 'sexy', 'party', 'in', 'your', 'mouth', 'where', \"you're\", 'outrageously', 'flirting', 'with', 'the', 'hottest', 'person', 'at', 'the', 'party'], ['how', 'awesome', 'is', 'that'], ['very', 'very', 'fun', 'chef'], ['great', 'subway', 'in', 'fact', \"it's\", 'so', 'good', 'when', 'you', 'come', 'here', 'every', 'other', 'subway', 'will', 'not', 'meet', 'your', 'expectations'], ['as', 'for', 'the', 'service', 'i', 'thought', 'it', 'was', 'good'], ['in', 'fact', \"i'm\", 'going', 'to', 'round', 'up', 'to', '4', 'stars', 'just', 'because', 'she', 'was', 'so', 'awesome'], ['wow', 'loved', 'this', 'place'], ['plus', \"it's\", 'only', '8', 'bucks'], ['delicious', 'and', 'i', 'will', 'absolutely', 'be', 'back'], ['their', 'monster', 'chicken', 'fried', 'steak', 'and', 'eggs', 'is', 'my', 'all', 'time', 'favorite'], ['try', 'them', 'in', 'the', 'airport', 'to', 'experience', 'some', 'tasty', 'food', 'and', 'speedy', 'friendly', 'service'], ['really', 'really', 'good', 'rice', 'all', 'the', 'time'], ['my', 'breakfast', 'was', 'perpared', 'great', 'with', 'a', 'beautiful', 'presentation', 'of', '3', 'giant', 'slices', 'of', 'toast', 'lightly', 'dusted', 'with', 'powdered', 'sugar'], ['they', 'have', 'a', 'good', 'selection', 'of', 'food', 'including', 'a', 'massive', 'meatloaf', 'sandwich', 'a', 'crispy', 'chicken', 'wrap', 'a', 'delish', 'tuna', 'melt', 'and', 'some', 'tasty', 'burgers'], ['the', 'first', 'time', 'i', 'ever', 'came', 'here', 'i', 'had', 'an', 'amazing', 'experience', 'i', 'still', 'tell', 'people', 'how', 'awesome', 'the', 'duck', 'was'], ['the', 'salad', 'had', 'just', 'the', 'right', 'amount', 'of', 'sauce', 'to', 'not', 'over', 'power', 'the', 'scallop', 'which', 'was', 'perfectly', 'cooked'], ['the', 'food', 'was', 'great', 'as', 'always', 'compliments', 'to', 'the', 'chef'], ['you', 'get', 'incredibly', 'fresh', 'fish', 'prepared', 'with', 'care'], ['we', 'were', 'sat', 'right', 'on', 'time', 'and', 'our', 'server', 'from', 'the', 'get', 'go', 'was', 'fantastic'], ['they', 'have', 'a', 'plethora', 'of', 'salads', 'and', 'sandwiches', 'and', 'everything', \"i've\", 'tried', 'gets', 'my', 'seal', 'of', 'approval'], ['i', 'ate', 'there', 'twice', 'on', 'my', 'last', 'visit', 'and', 'especially', 'enjoyed', 'the', 'salmon', 'salad'], ['it', 'was', 'awesome'], ['waitress', 'was', 'good', 'though'], ['our', 'server', 'was', 'very', 'nice', 'and', 'attentive', 'as', 'were', 'the', 'other', 'serving', 'staff'], ['he', 'deserves', '5', 'stars'], [\"i'd\", 'love', 'to', 'go', 'back'], ['very', 'good', 'food', 'great', 'atmosphere', '1'], ['not', 'a', 'weekly', 'haunt', 'but', 'definitely', 'a', 'place', 'to', 'come', 'back', 'to', 'every', 'once', 'in', 'a', 'while'], ['the', 'sergeant', 'pepper', 'beef', 'sandwich', 'with', 'auju', 'sauce', 'is', 'an', 'excellent', 'sandwich', 'as', 'well'], ['service', 'was', 'excellent', 'and', 'prices', 'are', 'pretty', 'reasonable', 'considering', 'this', 'is', 'vegas', 'and', 'located', 'inside', 'the', 'crystals', 'shopping', 'mall', 'by', 'aria'], ['by', 'far', 'the', 'best', 'cheesecurds', 'we', 'have', 'ever', 'had'], ['omg', 'i', 'felt', 'like', 'i', 'had', 'never', 'eaten', 'thai', 'food', 'until', 'this', 'dish'], ['a', 'good', 'time'], ['the', 'vegetables', 'are', 'so', 'fresh', 'and', 'the', 'sauce', 'feels', 'like', 'authentic', 'thai'], ['my', 'boyfriend', 'and', 'i', 'came', 'here', 'for', 'the', 'first', 'time', 'on', 'a', 'recent', 'trip', 'to', 'vegas', 'and', 'could', 'not', 'have', 'been', 'more', 'pleased', 'with', 'the', 'quality', 'of', 'food', 'and', 'service'], ['i', 'was', 'proven', 'dead', 'wrong', 'by', 'this', 'sushi', 'bar', 'not', 'only', 'because', 'the', 'quality', 'is', 'great', 'but', 'the', 'service', 'is', 'fast', 'and', 'the', 'food', 'impeccable'], ['my', 'ribeye', 'steak', 'was', 'cooked', 'perfectly', 'and', 'had', 'great', 'mesquite', 'flavor'], ['restaurant', 'is', 'always', 'full', 'but', 'never', 'a', 'wait'], ['best', 'buffet', 'in', 'town', 'for', 'the', 'price', 'you', 'cannot', 'beat', 'it'], ['those', 'burgers', 'were', 'amazing'], ['extremely', 'tasty'], ['the', 'chicken', 'was', 'deliciously', 'seasoned', 'and', 'had', 'the', 'perfect', 'fry', 'on', 'the', 'outside', 'and', 'moist', 'chicken', 'on', 'the', 'inside'], ['all', 'i', 'have', 'to', 'say', 'is', 'the', 'food', 'was', 'amazing'], ['very', 'good', 'lunch', 'spot'], ['he', 'also', 'came', 'back', 'to', 'check', 'on', 'us', 'regularly', 'excellent', 'service'], ['i', 'miss', 'it', 'and', 'wish', 'they', 'had', 'one', 'in', 'philadelphia'], ['you', 'cant', 'go', 'wrong', 'with', 'any', 'of', 'the', 'food', 'here'], ['my', 'boyfriend', 'tried', 'the', 'mediterranean', 'chicken', 'salad', 'and', 'fell', 'in', 'love'], ['damn', 'good', 'steak'], ['he', 'came', 'running', 'after', 'us', 'when', 'he', 'realized', 'my', 'husband', 'had', 'left', 'his', 'sunglasses', 'on', 'the', 'table'], ['interesting', 'decor'], ['seriously', 'killer', 'hot', 'chai', 'latte'], ['our', 'server', 'was', 'fantastic', 'and', 'when', 'he', 'found', 'out', 'the', 'wife', 'loves', 'roasted', 'garlic', 'and', 'bone', 'marrow', 'he', 'added', 'extra', 'to', 'our', 'meal', 'and', 'another', 'marrow', 'to', 'go'], ['back', 'to', 'good', 'bbq', 'lighter', 'fare', 'reasonable', 'pricing', 'and', 'tell', 'the', 'public', 'they', 'are', 'back', 'to', 'the', 'old', 'ways'], ['best', 'fish', \"i've\", 'ever', 'had', 'in', 'my', 'life'], ['overall', 'i', 'like', 'this', 'place', 'a', 'lot'], ['the', 'food', 'is', 'very', 'good', 'for', 'your', 'typical', 'bar', 'food'], ['2', 'thumbs', 'up'], ['an', 'extensive', 'menu', 'provides', 'lots', 'of', 'options', 'for', 'breakfast'], ['the', 'cocktails', 'are', 'all', 'handmade', 'and', 'delicious'], ['much', 'better', 'than', 'the', 'other', 'ayce', 'sushi', 'place', 'i', 'went', 'to', 'in', 'vegas'], [\"we'd\", 'definitely', 'go', 'back', 'here', 'again'], ['this', 'place', 'is', 'a', 'jewel', 'in', 'las', 'vegas', 'and', 'exactly', 'what', \"i've\", 'been', 'hoping', 'to', 'find', 'in', 'nearly', 'ten', 'years', 'living', 'here'], ['the', 'steak', 'and', 'the', 'shrimp', 'are', 'in', 'my', 'opinion', 'the', 'best', 'entrees', 'at', 'gc'], ['definitely', 'worth', 'venturing', 'off', 'the', 'strip', 'for', 'the', 'pork', 'belly', 'will', 'return', 'next', 'time', \"i'm\", 'in', 'vegas'], ['now', 'this', 'dish', 'was', 'quite', 'flavourful'], ['today', 'was', 'my', 'first', 'taste', 'of', 'a', 'buldogis', 'gourmet', 'hot', 'dog', 'and', 'i', 'have', 'to', 'tell', 'you', 'it', 'was', 'more', 'than', 'i', 'ever', 'thought', 'possible'], ['we', 'made', 'the', 'drive', 'all', 'the', 'way', 'from', 'north', 'scottsdale', 'and', 'i', 'was', 'not', 'one', 'bit', 'disappointed'], ['they', 'have', 'great', 'dinners'], ['i', 'had', 'heard', 'good', 'things', 'about', 'this', 'place', 'but', 'it', 'exceeding', 'every', 'hope', 'i', 'could', 'have', 'dreamed', 'of'], ['i', 'had', 'strawberry', 'tea', 'which', 'was', 'good'], ['the', 'food', 'came', 'out', 'at', 'a', 'good', 'pace'], ['all', 'in', 'all', 'an', 'excellent', 'restaurant', 'highlighted', 'by', 'great', 'service', 'a', 'unique', 'menu', 'and', 'a', 'beautiful', 'setting'], ['all', 'of', 'the', 'tapas', 'dishes', 'were', 'delicious'], ['we', 'enjoy', 'their', 'pizza', 'and', 'brunch'], ['they', 'could', 'serve', 'it', 'with', 'just', 'the', 'vinaigrette', 'and', 'it', 'may', 'make', 'for', 'a', 'better', 'overall', 'dish', 'but', 'it', 'was', 'still', 'very', 'good']]\n",
      "{\"i've had better, not only from dedicated boba tea spots, but even from jenni pho.\", 'the last 3 times i had lunch here has been bad.', 'what a mistake that was!', 'i hate to disagree with my fellow yelpers, but my husband and i were so disappointed with this place.', 'for service, i give them no stars.', \"i'm probably one of the few people to ever go to ians and not like it.\", 'never again will i be dining at this place!', 'this place is disgusting!', 'the food is not tasty at all, not to say its \"real traditional hunan style\".', 'if you look for authentic thai food, go else where.', 'do yourself a favor and stay away from this dish.', \"we won't be going back.\", 'i was shocked because no signs indicate cash only.', 'i had high hopes for this place since the burgers are cooked over a charcoal grill, but unfortunately the taste fell flat, way flat.', 'waiter was a jerk.', 'a fly was in my apple juice.. a fly!!!!!!!!', 'a greasy, unhealthy meal.', 'we waited for thirty minutes to be seated (although there were 8 vacant tables and we were the only folks waiting).', 'disappointing experience.', 'bland and flavorless is a good way of describing the barely tepid meat.', 'the presentation of the food was awful.', 'it was so bad, i had lost the heart to finish it.', 'i think this restaurant suffers from not trying hard enough.', 'the potato chip order was sad... i could probably count how many chips were in that box and it was probably around 12.', 'the heart attack grill in downtown vegas is an absolutely flat-lined excuse for a restaurant.', 'it was attached to a gas station, and that is rarely a good sign.', 'it also took her forever to bring us the check when we asked for it.', 'i also decided not to send it back because our waitress looked like she was on the verge of having a heart attack.', 'i vomited in the bathroom mid lunch.', 'the service here is fair at best.', 'overpriced for what you are getting.', 'if you want to wait for mediocre food and downright terrible service, then this is the place for you.', 'waited 2 hours & never got either of our pizzas as many other around us who came in later did!', \"friend's pasta -- also bad, he barely touched it.\", 'sauce was tasteless.', 'if there were zero stars i would give it zero stars.', 'needless to say, we will never be back here again.', 'i found a six inch long piece of wire in my salsa.', 'seems like a good quick place to grab a bite of some familiar pub food, but do yourself a favor and look elsewhere.', \"i've lived here since 1979 and this was the first (and last) time i've stepped foot into this place.\", 'we watched our waiter pay a lot more attention to other tables and ignore us.', \"i don't recommend unless your car breaks down in front of it and you are starving.\", 'we sat another ten minutes and finally gave up and left.', 'sorry, i will not be getting food from here anytime soon :(', 'the tables outside are also dirty a lot of the time and the workers are not always friendly and helpful with the menu.', 'the worst was the salmon sashimi.', 'why are these sad little vegetables so overcooked?', 'she ordered a toasted english muffin that came out untoasted.', 'the buffet is small and all the food they offered was bland.', 'to my disbelief, each dish qualified as the worst version of these foods i have ever tasted.', 'the burger had absolutely no flavor - the meat itself was totally bland, the burger was overcooked and there was no charcoal flavor.', \"the waiter wasn't helpful or friendly and rarely checked on us.\", 'not even a \"hello, we will be right with you.\"', \"real sushi lovers, let's be honest - yama is not that good.\", \"if you are reading this please don't go there.\", 'the place was not clean and the food oh so stale!', \"just don't know why they were so slow.\", 'i give it 2 thumbs down', 'and then tragedy struck.', 'after waiting an hour and being seated, i was not in the greatest of moods.', 'i do love sushi, but i found kabuki to be over-priced, over-hip and under-services.', 'i guess maybe we went on an off night but it was disgraceful.', 'very bad experience!', 'i checked out this place a couple years ago and was not impressed.', 'as a sushi lover avoid this place by all means.', 'anyway, i do not think i will go back there.', \"overall i wasn't very impressed with noca.\", \"the selection was probably the worst i've seen in vegas.....there was none.\", 'when my mom and i got home she immediately got sick and she only had a few bites of salad.', 'my husband and i ate lunch here and were very disappointed with the food and service.', 'the ri style calamari was a joke.', 'food is way overpriced and portions are fucking small.', 'same evening, him and i are both drastically sick.', 'i was so insulted.', \"the building itself seems pretty neat; the bathroom is pretty trippy, but i wouldn't eat here again.\", 'over rated.', 'your staff spends more time talking to themselves than me.', 'after the disappointing dinner we went elsewhere for dessert.', 'they brought a fresh batch of fries and i was thinking yay something warm but no!', 'please stay away from the shrimp stir fried noodles.', 'strike 2, who wants to be rushed.', \"it really is impressive that the place hasn't closed down.\", 'total letdown, i would much rather just go to the camelback flower shop and cartel coffee.', 'now i am getting angry and i want my damn pho.', 'total waste of time.', \"i can't tell you how disappointed i was.\", 'there is nothing privileged about working/eating there.', 'the chicken dishes are ok, the beef is like shoe leather.', 'food was average at best.', 'del taco is pretty nasty and should be avoided if possible.', \"i as well would've given godfathers zero stars if possible.\", 'i got food poisoning here at the buffet.', \"the only thing i wasn't too crazy about was their guacamole as i don't like it puréed.\", \"i'd rather eat airline food, seriously.\", 'a lady at the table next to us found a live green caterpillar in her salad.', 'which are small and not worth the price.', \"after all the rave reviews i couldn't wait to eat here......what a disappointment!\", 'will not be back!', \"maybe it's just their vegetarian fare, but i've been twice and i thought it was average at best.\", 'what a mistake.', 'it was a bit too sweet, not really spicy enough, and lacked flavor.', 'lobster bisque, bussell sprouts, risotto, filet all needed salt and pepper..and of course there is none at the tables.', 'the desserts were a bit strange.', 'an hour... seriously?', 'worse of all, he humiliated his worker right in front of me..bunch of horrible name callings.', 'the fried rice was dry as well.', \"it's too bad the food is so damn generic.\", 'this place is way too overpriced for mediocre food.', 'the service was extremely slow.', 'at least think to refill my water before i struggle to wave you over for 10 minutes.', \"horrible - don't waste your time and money.\", 'we got sitting fairly fast, but, ended up waiting 40 minutes just to place our order, another 30 minutes before the food arrived.', 'she was quite disappointed although some blame needs to be placed at her door.', 'spend your money elsewhere.', 'would not recommend to others.', 'this place deserves no stars.', '- they never brought a salad we asked for.', \"if the food isn't bad enough for you, then enjoy dealing with the world's worst/annoying drunk people.\", \"i probably won't be coming back here.\", \"it's not hard to make a decent hamburger.\", \"so don't go there if you are looking for good food...\", 'it was pretty gross!', 'seafood was limited to boiled shrimp and crab legs but the crab legs definitely did not taste fresh.', 'he was extremely rude and really, there are so many other restaurants i would love to dine at during a weekend in vegas.', 'on three different occasions i asked for well done or medium well, and all three times i got the bloodiest piece of meat on my plate.', 'but then they came back cold.', 'awful service.', 'very poor service.', 'i was disgusted because i was pretty sure that was human hair.', \"if it were possible to give them zero stars, they'd have it.\", \"i just don't know how this place managed to served the blandest food i have ever eaten when they are preparing indian cuisine.\", 'i would avoid this place if you are staying in the mirage.', 'boy was that sucker dry!!.', 'any grandmother can make a roasted chicken better than this one.', 'food quality has been horrible.', 'ordered an appetizer and took 40 minutes and then the pizza another 10 minutes.', \"it kept getting worse and worse so now i'm officially done.\", 'did not like at all.', \"furthermore, you can't even find hours of operation on the website!\", 'the service was poor and thats being nice.', 'but the service was beyond bad.', 'tried to go here for lunch and it was a madhouse.', 'also, i feel like the chips are bought, not made in house.', 'the cashew cream sauce was bland and the vegetables were undercooked.', 'terrible service!', 'the only reason to eat here would be to fill up before a night of binge drinking just to get some carbs in your stomach.', 'hell no will i go back', 'my sashimi was poor quality being soggy and tasteless.', \"i don't think we'll be going back anytime soon.\", \"then, as if i hadn't wasted enough of my life there, they poured salt in the wound by drawing out the time it took to bring the check.\", 'this was like the final blow!', 'the food sucked, which we expected but it sucked more than we could have imagined.', 'i swung in to give them a try but was deeply disappointed.', 'i hate those things as much as cheap quality black olives.', 'pricing is a bit of a concern at mellow mushroom.', \"the warm beer didn't help.\", 'never going back.', 'i paid the bill but did not tip because i felt the server did a terrible job.', 'so in a nutshell: 1) the restaraunt smells like a combination of a dirty fish market and a sewer.', 'con: spotty service.', 'appetite instantly gone.', \"i won't be back.\", 'nothing special.', \"the place was fairly clean but the food simply wasn't worth it.\", 'it was a pale color instead of nice and char and has no flavor.', 'we could not believe how dirty the oysters were!', 'host staff were, for lack of a better word, bitches!', 'however, there was so much garlic in the fondue, it was barely edible.', 'service sucks.', 'bad day or not, i have a very low tolerance for rude customer service people, it is your job to be nice and polite, wash dishes otherwise!!', 'the food was terrible.', 'when i opened the sandwich, i was impressed, but not in a good way.', 'the turkey and roast beef were bland.', \"we won't be going back anytime soon!\", 'but now i was completely grossed out.', 'it was packed!!', 'i got home to see the driest damn wings ever!', 'shrimp- when i unwrapped it (i live only 1/2 a mile from brushfire) it was literally ice cold.', 'it was extremely \"crumby\" and pretty tasteless.', 'the service was terrible, food was mediocre.', \"i've had better bagels from the grocery store.\", 'waited and waited and waited.', 'the chips that came out were dripping with grease, and mostly not edible.', \"paying $7.85 for a hot dog and fries that looks like it came out of a kid's meal at the wienerschnitzel is not my idea of a good meal.\", 'but i definitely would not eat here again.', 'we ordered some old classics and some new dishes after going there a few times and were sorely disappointed with everything.', 'would not go back.', 'probably not in a hurry to go back.', 'it was a drive to get there.', 'i seriously cannot believe that the owner has so many unexperienced employees that all are running around like chickens with their heads cut off.', \"the food is about on par with denny's, which is to say, not good at all.\", 'this place is horrible and way overpriced.', 'your servers suck, wait, correction, our server heimer sucked.', 'for a self proclaimed coffee cafe, i was wildly disappointed.', 'the server was very negligent of our needs and made us feel very unwelcome... i would not suggest this place!', \"i'm super pissd.\", 'despite how hard i rate businesses, its actually rare for me to give a 1 star.', 'spend your money and time some place else.', 'my salad had a bland vinegrette on the baby greens and hearts of palm.', \"maybe if they weren't cold they would have been somewhat edible.\", 'what happened next was pretty....off putting.', \"hard to judge whether these sides were good because we were grossed out by the melted styrofoam and didn't want to eat it for fear of getting sick.\", 'i work in the hospitality industry in paradise valley and have refrained from recommending cibo any longer.', 'soggy and not good.', 'i immediately said i wanted to talk to the manager but i did not want to talk to the guy who was doing shots of fireball behind the bar.', 'crust is not good.', 'although i very much liked the look and sound of this place, the actual experience was a bit disappointing.', 'however, my recent experience at this particular location was not so good.', 'very slow at seating even with reservation.', \"i've never been more insulted or felt disrespected.\", 'i have been to very few places to eat that under no circumstances would i ever return to, and this tops the list.', \"and the red curry had so much bamboo shoots and wasn't very tasty to me.\", 'a drive thru means you do not want to wait around for half an hour for your food, but somehow when we end up going here they make us wait and wait.', 'dont go here.', \"i could barely stomach the meal, but didn't complain because it was a business lunch.\", 'the potatoes were like rubber and you could tell they had been made up ahead of time being kept under a warmer.', 'the chicken i got was definitely reheated and was only ok, the wedges were cold and soggy.', 'waitress was a little slow in service.', 'this is was due to the fact that it took 20 minutes to be acknowledged, then another 35 minutes to get our food...and they kept forgetting things.', 'this is a disgrace.', 'unfortunately, it only set us up for disapppointment with our entrees.', 'overall, i was very disappointed with the quality of food at bouchon.', 'weird vibe from owners.', \"once your food arrives it's meh.\", 'the manager was the worst.', 'this one is simply a disappointment.', '!....the owners really really need to quit being soooooo cheap let them wrap my freaking sandwich in two papers not one!', \"honeslty it didn't taste that fresh.)\", 'things that went wrong: - they burned the saganaki.', 'i came back today since they relocated and still not impressed.', 'the service was a bit lacking.', 'it lacked flavor, seemed undercooked, and dry.', \"i've had better atmosphere.\", 'i can take a little bad service but the food sucks.', 'after 20 minutes wait, i got a table.', \"we've tried to like this place but after 10+ times i think we're done with them.\", 'service was slow and not attentive.', 'insults, profound deuchebaggery, and had to go outside for a smoke break while serving just to solidify it.', \"i don't think i'll be running back to carly's anytime soon for food.\", \"i'm not eating here!\", 'everything was gross.', 'the worst experience ever.', 'i had the mac salad and it was pretty bland so i will not be getting that again.', 'i was mortified.', 'i think not again', 'we got the food and apparently they have never heard of salt and the batter on the fish was chewy.', 'i was very disappointed!!', 'i kept looking at the time and it had soon become 35 minutes, yet still no food.', 'the wife hated her meal (coconut shrimp), and our friends really did not enjoy their meals, either.', 'like the other reviewer said \"you couldn\\'t pay me to eat at this place again.\"', 'the sangria was about half of a glass wine full and was $12, ridiculous.', \"i'll take my business dinner dollars elsewhere.\", 'will not be back.', \"i find wasting food to be despicable, but this just wasn't food.\", \"my girlfriend's veal was very bad.\", 'unfortunately, we must have hit the bakery on leftover day because everything we ordered was stale.', \"the chains, which i'm no fan of, beat this place easily.\", 'then our food came out, disappointment ensued.', 'the poor batter to meat ratio made the chicken tenders very unsatisfying.', \"don't do it!!!!\", 'the meat was pretty dry, i had the sliced brisket and pulled pork.', 'the menu is always changing, food quality is going down & service is extremely slow.', \"we won't be returning.\", 'total brunch fail.', 'if she had not rolled the eyes we may have stayed... not sure if we will go back and try it again.', 'the servers went back and forth several times, not even so much as an \"are you being helped?\"', \"third, the cheese on my friend's burger was cold.\", 'i had about two bites and refused to eat anymore.', 'not tasty and the texture was just nasty.', 'took an hour to get our food only 4 tables in restaurant my food was luke warm, our sever was running around like he was totally overwhelmed.', 'i dressed up to be treated so rudely!', \"we aren't ones to make a scene at restaurants but i just don't get it...definitely lost the love after this one!\", 'service stinks here!', 'worst service to boot, but that is the least of their worries.', 'first - the bathrooms at this location were dirty- seat covers were not replenished & just plain yucky!!!', 'i have never had such bland food which surprised me considering the article we read focused so much on their spices and flavor.', \"i wouldn't return.\", 'we had so much to say about the place before we walked in that he expected it to be amazing, but was quickly disappointed.', \"the food wasn't good.\", 'i ordered albondigas soup - which was just warm - and tasted like tomato soup with frozen meatballs.', 'definitely not worth the $3 i paid.', \"i probably won't be back, to be honest.\", 'the service was meh.', 'i will not return.', 'the refried beans that came with my meal were dried out and crusty and the food was bland.', 'there is nothing authentic about this place.', \"it shouldn't take 30 min for pancakes and eggs.\", 'what should have been a hilarious, yummy christmas eve dinner to remember was the biggest fail of the entire trip for us.', \"they have horrible attitudes towards customers, and talk down to each one when customers don't enjoy their food.\", \"at least 40min passed in between us ordering and the food arriving, and it wasn't that busy.\", \"the whole experience was underwhelming, and i think we'll just go to ninja sushi next time.\", 'the service was terrible though.', \"this is the worst sushi i have ever eat besides costco's.\", 'the real disappointment was our waiter.', 'it was a huge awkward 1.5lb piece of cow that was 3/4ths gristle and fat.', 'the selection of food was not the best.', '2 times - very bad customer service !', 'i don\\'t know what the big deal is about this place, but i won\\'t be back \"ya\\'all\".', 'terrible management.', 'first time there and might just be the last.', 'very very disappointed ordered the $35 big bay plater.', \"won't ever go here again.\", 'the pan cakes everyone are raving about taste like a sugary disaster tailored to the palate of a six year old.', 'ordered a double cheeseburger & got a single patty that was falling apart (picture uploaded) yeah, still sucks.', 'i had to wait over 30 minutes to get my drink and longer to get 2 arepas.', \"we started with the tuna sashimi which was brownish in color and obviously wasn't fresh.\", 'for 40 bucks a head, i really expect better food.', 'i consider this theft.', 'left very frustrated.', 'do not waste your money here!', 'food was really boring.', 'the management is rude.', 'not good by any stretch of the imagination.', \"also, the fries are without a doubt the worst fries i've ever had.\", 'the only downside is the service.', \"if someone orders two tacos don't' you think it may be part of customer service to ask if it is combo or ala cart?\", 'i waited and waited.', \"ordered burger rare came in we'll done.\", \"as much as i'd like to go back, i can't get passed the atrocious service and will never return.\", 'not much seafood and like 5 strings of pasta at the bottom.', 'he was terrible!', \"based on the sub-par service i received and no effort to show their gratitude for my business i won't be going back.\", \"(it wasn't busy either) also, the building was freezing cold.\", 'very tough and very short on flavor!', 'similarly, the delivery man did not say a word of apology when our food was 45 minutes late.', 'the feel of the dining room was more college cooking course than high class dining and the service was slow at best.', 'i know this is not like the other restaurants at all, something is very off here!', 'never been to hard rock casino before, will never ever step forward in it again!', \"i don't have to be an accountant to know i'm getting screwed!\", 'the burger... i got the \"gold standard\" a $17 burger and was kind of disappointed.', 'poor service, the waiter made me feel like i was stupid every time he came to the table.', \"won't go back.\", 'the fries were not hot, and neither was my burger.', 'overall i was not impressed and would not go back.', 'thoroughly disappointed!', \"ryan's bar is definitely one edinburgh establishment i won't be revisiting.\", \"by this point, my friends and i had basically figured out this place was a joke and didn't mind making it publicly and loudly known.\", 'not my thing.', \"for about 10 minutes, we we're waiting for her salad when we realized that it wasn't coming any time soon.\", 'not much flavor to them, and very poorly constructed.', \"i started this review with two stars, but i'm editing it to give it only one.\", 'we literally sat there for 20 minutes with no one asking to take our order.', \"the plantains were the worst i've ever tasted.\", 'avoid this establishment!', 'before i go in to why i gave a 1 star rating please know that this was my third time eating at bachi burger before writing a review.', 'the burrittos blah!', 'the food was barely lukewarm, so it must have been sitting waiting for the server to bring it out to us.', \"we'll never go again.\", 'the kids play area is nasty!', 'very disappointing!!!', \"bland... not a liking this place for a number of reasons and i don't want to waste time on bad reviewing.. i'll leave it at that...\", 'there is so much good food in vegas that i feel cheated for wasting an eating opportunity by going to rice and company.', 'i left with a stomach ache and felt sick the rest of the day.', 'it took over 30 min to get their milkshake, which was nothing more than chocolate milk.', 'will never ever go back and have told many people what had happened.', 'the chicken wings contained the driest chicken meat i have ever eaten.', 'the problem i have is that they charge $11.99 for a sandwich that is no bigger than a subway sub (which offers better and more amount of vegetables).', 'and it was way to expensive.', 'the ambiance here did not feel like a buffet setting, but more of a douchey indoor garden for tea and biscuits.', 'i would not recommend this place.', \"but i don't like it.\", 'i have watched their prices inflate, portions get smaller and management attitudes grow rapidly!', 'rude & inconsiderate management.', 'the bus boy on the other hand was so rude.', 'tonight i had the elk filet special...and it sucked.', \"i wasn't really impressed with strip steak.\", 'highly unprofessional and rude to a loyal patron!', 'the descriptions said \"yum yum sauce\" and another said \"eel sauce\", yet another said \"spicy mayo\"...well none of the rolls had sauces on them.', \"i'm not really sure how joey's was voted best hot dog in the valley by readers of phoenix magazine.\", 'avoid at all cost!', 'this place is not quality sushi, it is not a quality restaurant.', 'i will not be eating there again.', 'i probably would not go here again.', \"we've have gotten a much better service from the pizza place next door than the services we received from this restaurant.\", \"overall, i don't think that i would take my parents to this place again because they made most of the similar complaints that i silently felt too.\", 'my gyro was basically lettuce only.', \"the ambiance isn't much better.\", 'food was below average.', '-drinks took close to 30 minutes to come out at one point.', 'all in all, ha long bay was a bit of a flop.', 'this greedy corporation will never see another dime from me!', 'i asked multiple times for the wine list and after some time of being ignored i went to the hostess and got one myself.', 'i just wanted to leave.', 'what did bother me, was the slow service.', 'tasted like dirt.', 'when my order arrived, one of the gyros was missing.', \"the servers are not pleasant to deal with and they don't always honor pizza hut coupons.\", 'by this time our side of the restaurant was almost empty so there was no excuse.', 'and the beans and rice were mediocre at best.', 'i had the chicken pho and it tasted very bland.', 'i never come again.', 'the service was not up to par, either.', 'it was way over fried.', \"needless to say, i won't be going back anytime soon.\", 'my husband said she was very rude... did not even apologize for the bad food or anything.', 'the service here leaves a lot to be desired.', \"i won't try going back there even if it's empty.\", \"i'm not impressed with the concept or the food.\", 'it was either too cold, not enough flavor or just bad.', 'anyways, the food was definitely not filling at all, and for the price you pay you should expect more.', 'after two i felt disgusting.', 'we will not be coming back.', 'not good for the money.', 'i took back my money and got outta there.', 'after i pulled up my car i waited for another 15 minutes before being acknowledged.', \"the shower area is outside so you can only rinse, not take a full shower, unless you don't mind being nude for everyone to see!\", 'it was probably dirt.', 'this place is overpriced, not consistent with their boba, and it really is overpriced!', 'the buffet at bellagio was far from what i anticipated.', 'it was equally awful.', \"worst food/service i've had in a while.\", 'the chipolte ranch dipping sause was tasteless, seemed thin and watered down with no heat.', '-my order was not correct.', 'we waited for forty five minutes in vain.', 'and the drinks are weak, people!', 'we also ordered the spinach and avocado salad; the ingredients were sad and the dressing literally had zero taste.', 'my brother in law who works at the mall ate here same day, and guess what he was sick all night too.', 'very, very sad.', \"sadly, gordon ramsey's steak is a place we shall sharply avoid during our next trip to vegas.\", 'unfortunately, it was not good.', 'the pizza tasted old, super chewy in not a good way.', 'there is really nothing for me at postinos, hope your experience is better', 'this place lacked style!!', \"i go to far too many places and i've never seen any restaurant that serves a 1 egg breakfast, especially for $4.00.\", 'say bye bye to your tip lady!', 'my friend did not like his bloody mary.', 'this place has a lot of promise but fails to deliver.', 'waaaaaayyyyyyyyyy over rated is all i am saying.', 'i have been in more than a few bars in vegas, and do not ever recall being charged for tap water.', \"now the burgers aren't as good, the pizza which used to be amazing is doughy and flavorless.\", 'the ripped banana was not only ripped, but petrified and tasteless.', 'i felt insulted and disrespected, how could you talk and judge another human being like that?', 'in summary, this was a largely disappointing dining experience.', 'there was hardly any meat.', 'not a single employee came out to see if we were ok or even needed a water refill once they finally served us our food.', 'their frozen margaritas are way too sugary for my taste.', 'i think food should have flavor and texture and both were lacking.', 'gave up trying to eat any of the crust (teeth still sore).', \"too bad cause i know it's family owned, i really wanted to like this place.\", 'it sure does beat the nachos at the movies but i would expect a little bit more coming from a restaurant.', 'we waited an hour for what was a breakfast i could have done 100 times better at home.', 'it was not good.', 'the scallop dish is quite appalling for value as well.', 'on the ground, right next to our table was a large, smeared, been-stepped-in-and-tracked-everywhere pile of green bird poop.', 'eew... this location needs a complete overhaul.', \"don't waste your time here.\", 'the one down note is the ventilation could use some upgrading.', \"we asked for the bill to leave without eating and they didn't bring that either.\", \"how can you call yourself a steakhouse if you can't properly cook a steak, i don't understand!\", 'no allergy warnings on the menu, and the waitress had absolutely no clue as to which meals did or did not contain peanuts.', 'the spaghetti is nothing special whatsoever.', 'my wife had the lobster bisque soup which was lukewarm.', 'the live music on fridays totally blows.', \"definitely a turn off for me & i doubt i'll be back unless someone else is buying.\", \"it wasn't busy at all and now we know why.\", 'this place is not worth your time, let alone vegas.', 'they dropped more than the ball.', \"don't bother coming here.\", 'there is not a deal good enough that would drag me into that establishment again.', \"no, i'm going to eat the potato that i found some strangers hair in it.\", 'will never, ever go back.', \"coming here is like experiencing an underwhelming relationship where both parties can't wait for the other person to ask to break up.\", \"i guess i should have known that this place would suck, because it is inside of the excalibur, but i didn't use my common sense.\", \"main thing i didn't enjoy is that the crowd is of older crowd, around mid 30s and up.\", 'this place deserves one star and 90% has to do with the food.', 'best of luck to the rude and non-customer service focused new management.', \"probably never coming back, and wouldn't recommend it.\", 'i am far from a sushi connoisseur but i can definitely tell the difference between good food and bad food and this was certainly bad food.', 'for that price i can think of a few place i would have much rather gone.', 'frozen pucks of disgust, with some of the worst people behind the register.', 'crostini that came with the salad was stale.', \"i've never been treated so bad.\", 'hot dishes are not hot, cold dishes are close to room temp.i watched staff prepare food with bare hands, no gloves.everything is deep fried in oil.', 'the cashier had no care what so ever on what i had to say it still ended up being wayyy overpriced.', 'worst thai ever.', 'worst martini ever!', 'the service was a little slow , considering that were served by 3 people servers so the food was coming in a slow pace.', 'kind of hard to mess up a steak but they did.', 'mediocre food.', \"perhaps i caught them on an off night judging by the other reviews, but i'm not inspired to go back.\", 'the staff are now not as friendly, the wait times for being served are horrible, no one even says hi for the first 10 minutes.', \"my fella got the huevos rancheros and they didn't look too appealing.\", \"i mean really, how do you get so famous for your fish and chips when it's so terrible!?!\", 'no one at the table thought the food was above average or worth the wait that we had for it.', 'walked in and the place smelled like an old grease trap and only 2 others there eating.', 'as for the \"mains,\" also uninspired.', 'this place should honestly be blown up.', 'went for lunch - service was slow.', 'hopefully this bodes for them going out of business and someone who can cook can come in.', \"i live in the neighborhood so i am disappointed i won't be back here, because it is a convenient location.\", 'we recently witnessed her poor quality of management towards other guests as well.', 'must have been an off night at this place.', 'i dont think i will be back for a very long time.', \"i'm not sure how long we stood there but it was long enough for me to begin to feel awkwardly out of place.\", 'google mediocre and i imagine smashburger will pop up.', 'if that bug never showed up i would have given a 4 for sure, but on the other side of the wall where this bug was climbing was the kitchen.', 'i will never go back to this place and will never ever recommended this place to anyone!'}\n",
      "[({\"i've\": True, 'had': True, 'better': True, 'not': True, 'only': True, 'from': True, 'dedicated': True, 'boba': True, 'tea': True, 'spots': True, 'but': True, 'even': True, 'jenni': True, 'pho': True}, 'negative'), ({'the': True, 'last': True, '3': True, 'times': True, 'i': True, 'had': True, 'lunch': True, 'here': True, 'has': True, 'been': True, 'bad': True}, 'negative'), ({'what': True, 'a': True, 'mistake': True, 'that': True, 'was': True}, 'negative')]\n",
      "800 196\n"
     ]
    },
    {
     "name": "stdout",
     "output_type": "stream",
     "text": [
      "77.04081632653062\n"
     ]
    }
   ],
   "source": [
    "import spacy\n",
    "import nltk.classify.util\n",
    "from nltk.corpus import stopwords\n",
    "from nltk.classify import NaiveBayesClassifier\n",
    "from nltk.tokenize import word_tokenize\n",
    "from nltk.corpus import wordnet\n",
    "from sklearn.linear_model import LogisticRegression\n",
    "from sklearn import metrics\n",
    "from sklearn.feature_extraction.text import CountVectorizer\n",
    "#from sklearn.cross_validation import cross_val_score\n",
    "from nltk.tokenize import RegexpTokenizer\n",
    "import sys\n",
    "sys.path.append('/Users/Work/Documents/College/Senior/Senior Seminar/Main/virtualenv/lib/python3.6/site-packages')\n",
    "\n",
    "def Pos_Sort(input):\n",
    "    pos = []\n",
    "    neg = []\n",
    "    file = open(input, \"r\")\n",
    "    for line in file:\n",
    "\n",
    "        if \"\\t1\\n\" in line:\n",
    "            pos.append(line.lower())\n",
    "    pos = {x.replace('\\t1\\n', '') for x in pos}\n",
    "    fin_pos = []\n",
    "    dictionary = []\n",
    "    dicpos = {'key': 'value'}\n",
    "    useful_words = []\n",
    "    for review in pos:\n",
    "        tokenizer = RegexpTokenizer(\"[\\w']+\")\n",
    "        useful_words = tokenizer.tokenize(review)\n",
    "        #useful_words = tokenizer.tokenize(useful_words)\n",
    "        fin_pos.append(useful_words)\n",
    "        dictionary.append((dict([(word, True) for word in useful_words]), \"positive\")) \n",
    "    print(fin_pos)\n",
    "    return dictionary\n",
    "\n",
    "def Neg_Sort(input):\n",
    "    neg = []\n",
    "    file = open(input, \"r\")\n",
    "    for line in file:\n",
    "        if \"\\t0\\n\" in line:\n",
    "            neg.append(line.lower())\n",
    "    neg = {x.replace('\\t0\\n', '') for x in neg}\n",
    "    fin_neg = []\n",
    "    dictionary = []\n",
    "    dicpos = {'key': 'value'}\n",
    "    useful_words = []\n",
    "    print(neg)\n",
    "\n",
    "    for review in neg:\n",
    "        tokenizer = RegexpTokenizer(\"[\\w']+\")\n",
    "        useful_words = tokenizer.tokenize(review)\n",
    "        fin_neg.append(useful_words)\n",
    "        dictionary.append((dict([(word, True) for word in useful_words]), 'negative')) \n",
    "    return dictionary\n",
    " \n",
    "if __name__ == '__main__':\n",
    "    file = \"sentiment_labelled_sentences/yelp_labelled.txt\"\n",
    "    pos = Pos_Sort(file)\n",
    "    neg = Neg_Sort(file)\n",
    "    #Begin the training and test shit\n",
    "    #print(len(neg))\n",
    "    #print(len(pos))\n",
    "    print(neg[:3])\n",
    "    train_set = neg[:400] + pos[:400]\n",
    "    test_set = neg[400:] + pos[400:]\n",
    "    print(len(train_set), len(test_set))\n",
    "    classifier = NaiveBayesClassifier.train(train_set)\n",
    "    accuracy = nltk.classify.util.accuracy(classifier, test_set)\n",
    "    print(accuracy * 100)\n",
    "\n",
    "#SortAndTokenize(input)\n",
    "\n"
   ]
  },
  {
   "cell_type": "markdown",
   "metadata": {},
   "source": [
    "<h1> Begin the spacy shit </h1>"
   ]
  },
  {
   "cell_type": "code",
   "execution_count": null,
   "metadata": {},
   "outputs": [],
   "source": [
    "import spacy\n",
    "import nltk.classify.util\n",
    "from nltk.corpus import stopwords\n",
    "from nltk.classify import NaiveBayesClassifier\n",
    "from nltk.tokenize import word_tokenize\n",
    "from nltk.corpus import wordnet\n",
    "from sklearn.linear_model import LogisticRegression\n",
    "from sklearn import metrics\n",
    "from sklearn.feature_extraction.text import CountVectorizer\n",
    "#from sklearn.cross_validation import cross_val_score\n",
    "from nltk.tokenize import RegexpTokenizer\n",
    "import sys\n",
    "sys.path.append('/Users/Work/Documents/College/Senior/Senior Seminar/Main/virtualenv/lib/python3.6/site-packages')\n",
    "\n",
    "def Pos_Sort(input):\n",
    "    pos = []\n",
    "    neg = []\n",
    "    file = open(input, \"r\")\n",
    "    for line in file:\n",
    "        if \"\\t1\\n\" in line:\n",
    "            pos.append(line.lower())\n",
    "    pos = {x.replace('\\t1\\n', '') for x in pos}\n",
    "    fin_pos = []\n",
    "    dictionary = []\n",
    "    dicpos = {'key': 'value'}\n",
    "    useful_words = []\n",
    "    for review in pos:\n",
    "        tokenizer = RegexpTokenizer(\"[\\w']+\")\n",
    "        useful_words = tokenizer.tokenize(review)\n",
    "        #useful_words = tokenizer.tokenize(useful_words)\n",
    "        fin_pos.append(useful_words)    \n",
    "    return fin_pos\n",
    "\n",
    "def Neg_Sort(input):\n",
    "    pos = []\n",
    "    neg = []\n",
    "    file = open(input, \"r\")\n",
    "    for line in file:\n",
    "        if \"\\t0\\n\" in line:\n",
    "            neg.append(line.lower())\n",
    "    neg = {x.replace('\\t0\\n', '') for x in neg}\n",
    "    fin_neg = []\n",
    "    dictionary = []\n",
    "    dicpos = {'key': 'value'}\n",
    "    useful_words = []\n",
    "    for review in neg:\n",
    "        tokenizer = RegexpTokenizer(\"[\\w']+\")\n",
    "        useful_words = tokenizer.tokenize(review)\n",
    "        print(useful_words)\n",
    "        #useful_words = tokenizer.tokenize(useful_words)\n",
    "        fin_neg.append(useful_words)    \n",
    "    return fin_neg\n",
    " \n",
    "if __name__ == '__main__':\n",
    "    file = \"sentiment_labelled_sentences/yelp_labelled.txt\"\n",
    "    pos = Pos_Sort(file)\n",
    "    neg = Neg_Sort(file)\n",
    "    #print(neg)\n",
    "    \n",
    "#SortAndTokenize(input)\n",
    "\n"
   ]
  },
  {
   "cell_type": "code",
   "execution_count": null,
   "metadata": {},
   "outputs": [],
   "source": [
    "#Begin Section of Code Specifically Designed for the Json File\n",
    "import json\n",
    "def Pos_Sort(input):\n",
    "    pos = []\n",
    "    neg = []\n",
    "    file = open(input, \"r\")\n",
    "    i = 0\n",
    "    print(file)\n",
    "#     parsed_json = json.loads(str(file))\n",
    "    for x in file:\n",
    "        print(x)\n",
    "#         print(parsed_json['photo_id'])\n",
    "#         break\n",
    "\n",
    "    \n",
    "    \n",
    "#     for line in file:\n",
    "#         if \"\\t1\\n\" in line:\n",
    "#             pos.append(line.lower())\n",
    "#     pos = {x.replace('\\t1\\n', '') for x in pos}\n",
    "#     fin_pos = []\n",
    "#     dictionary = []\n",
    "#     dicpos = {'key': 'value'}\n",
    "#     useful_words = []\n",
    "#     for review in pos:\n",
    "#         tokenizer = RegexpTokenizer(\"[\\w']+\")\n",
    "#         useful_words = tokenizer.tokenize(review)\n",
    "#         #useful_words = tokenizer.tokenize(useful_words)\n",
    "#         fin_pos.append(useful_words)    \n",
    "#     return fin_pos\n",
    "file = \"yelp_dataset/yelp_academic_dataset_photo.json\"\n",
    "Pos_Sort(file)"
   ]
  },
  {
   "cell_type": "code",
   "execution_count": null,
   "metadata": {
    "scrolled": true
   },
   "outputs": [],
   "source": [
    "import spacy\n",
    "nlp = spacy.load('en_core_web_sm')\n",
    "def pos_tag():\n",
    "    for x in pos:\n",
    "        print(x)\n",
    "        for y in x:\n",
    "            doc = nlp(y)\n",
    "            \n",
    "            for token in doc:\n",
    "                #print(token.text, token.pos_)\n",
    "                \n",
    "                #print(token.pos_)\n",
    "                if token.pos_ == \"PROPN\":\n",
    "                    print(\"Proper Noun is \" + str(token) )\n",
    "                if token.pos_ == \"NOUN\":\n",
    "                    print(\"Noun is \" + str(token))\n",
    "                if token.pos_ == \"ADJ\":\n",
    "                    print(\"ADJ is \" + str(token))\n",
    "                \n",
    "def neg_tag():\n",
    "    for x in neg:\n",
    "        for y in x:\n",
    "            doc = nlp(y)\n",
    "            for token in doc:\n",
    "                print(token.text, token.pos_)\n",
    "print(pos_tag())\n"
   ]
  },
  {
   "cell_type": "code",
   "execution_count": null,
   "metadata": {},
   "outputs": [],
   "source": [
    "print(stopwords.words('english'))"
   ]
  },
  {
   "cell_type": "code",
   "execution_count": null,
   "metadata": {},
   "outputs": [],
   "source": [
    "import spacy\n",
    "from spacy import displacy\n",
    "\n",
    "nlp = spacy.load('en')\n",
    "doc = nlp(u'This is a sentence.')\n",
    "displacy.serve(doc, style='dep')\n"
   ]
  },
  {
   "cell_type": "markdown",
   "metadata": {},
   "source": [
    "<h1> displaCY </h1>"
   ]
  },
  {
   "cell_type": "code",
   "execution_count": 9,
   "metadata": {},
   "outputs": [
    {
     "name": "stdout",
     "output_type": "stream",
     "text": [
      "attribute\n"
     ]
    }
   ],
   "source": [
    "import spacy\n",
    "ans = spacy.explain('attr')\n",
    "print(ans)"
   ]
  },
  {
   "cell_type": "code",
   "execution_count": 15,
   "metadata": {},
   "outputs": [
    {
     "data": {
      "text/plain": [
       "[]"
      ]
     },
     "execution_count": 15,
     "metadata": {},
     "output_type": "execute_result"
    }
   ],
   "source": [
    "nlp = spacy.load('en')\n",
    "doc = nlp(u'Give it back! He pleaded.')\n",
    "give_subtree = doc[0].subtree\n",
    "assert [t.text for t in give_subtree] == [u'Give', u'it', u'back', u'!']\n",
    "[print(t.text) for t in give_subtree]"
   ]
  },
  {
   "cell_type": "code",
   "execution_count": 3,
   "metadata": {},
   "outputs": [
    {
     "name": "stdout",
     "output_type": "stream",
     "text": [
      "i i PRON PRP nsubj x True True\n",
      ", , PUNCT , punct , False False\n",
      "will will VERB MD aux xxxx True True\n",
      ", , PUNCT , punct , False False\n",
      "be be VERB VB ROOT xx True True\n",
      ", , PUNCT , punct , False False\n",
      "back back ADV RB advmod xxxx True True\n",
      ", , PUNCT , punct , False False\n",
      "many many ADJ JJ amod xxxx True True\n",
      ", , PUNCT , punct , False False\n",
      "times time NOUN NNS npadvmod xxxx True False\n",
      ", , PUNCT , punct , False False\n",
      "soon soon ADV RB advmod xxxx True False\n",
      ", , PUNCT , punct , False False\n"
     ]
    }
   ],
   "source": [
    "import spacy\n",
    "\n",
    "nlp = spacy.load('en_core_web_sm')\n",
    "doc = nlp('i,will,be,back,many,times,soon,')\n",
    "\n",
    "for token in doc:\n",
    "    print(token.text, token.lemma_, token.pos_, token.tag_, token.dep_,\n",
    "          token.shape_, token.is_alpha, token.is_stop)\n",
    "    "
   ]
  },
  {
   "cell_type": "code",
   "execution_count": 1,
   "metadata": {},
   "outputs": [
    {
     "name": "stdout",
     "output_type": "stream",
     "text": [
      "Shio 14 18 PERSON\n"
     ]
    }
   ],
   "source": [
    "import spacy\n",
    "\n",
    "nlp = spacy.load('en_core_web_sm')\n",
    "doc = nlp(u'I love eating Shio Ramen')\n",
    "\n",
    "for ent in doc.ents:\n",
    "    print(ent.text, ent.start_char, ent.end_char, ent.label_)"
   ]
  },
  {
   "cell_type": "code",
   "execution_count": 3,
   "metadata": {},
   "outputs": [],
   "source": [
    "import spacy\n",
    "nlp = spacy.load('en_core_web_sm')\n",
    "\n"
   ]
  },
  {
   "cell_type": "code",
   "execution_count": 4,
   "metadata": {},
   "outputs": [
    {
     "data": {
      "text/html": [
       "<svg xmlns=\"http://www.w3.org/2000/svg\" xmlns:xlink=\"http://www.w3.org/1999/xlink\" id=\"0\" class=\"displacy\" width=\"1100\" height=\"312.0\" style=\"max-width: none; height: 312.0px; color: #000000; background: #ffffff; font-family: Arial\">\n",
       "<text class=\"displacy-token\" fill=\"currentColor\" text-anchor=\"middle\" y=\"222.0\">\n",
       "    <tspan class=\"displacy-word\" fill=\"currentColor\" x=\"50\">displaCy</tspan>\n",
       "    <tspan class=\"displacy-tag\" dy=\"2em\" fill=\"currentColor\" x=\"50\">NOUN</tspan>\n",
       "</text>\n",
       "\n",
       "<text class=\"displacy-token\" fill=\"currentColor\" text-anchor=\"middle\" y=\"222.0\">\n",
       "    <tspan class=\"displacy-word\" fill=\"currentColor\" x=\"225\">uses</tspan>\n",
       "    <tspan class=\"displacy-tag\" dy=\"2em\" fill=\"currentColor\" x=\"225\">VERB</tspan>\n",
       "</text>\n",
       "\n",
       "<text class=\"displacy-token\" fill=\"currentColor\" text-anchor=\"middle\" y=\"222.0\">\n",
       "    <tspan class=\"displacy-word\" fill=\"currentColor\" x=\"400\">JavaScript,</tspan>\n",
       "    <tspan class=\"displacy-tag\" dy=\"2em\" fill=\"currentColor\" x=\"400\">PROPN</tspan>\n",
       "</text>\n",
       "\n",
       "<text class=\"displacy-token\" fill=\"currentColor\" text-anchor=\"middle\" y=\"222.0\">\n",
       "    <tspan class=\"displacy-word\" fill=\"currentColor\" x=\"575\">SVG</tspan>\n",
       "    <tspan class=\"displacy-tag\" dy=\"2em\" fill=\"currentColor\" x=\"575\">PROPN</tspan>\n",
       "</text>\n",
       "\n",
       "<text class=\"displacy-token\" fill=\"currentColor\" text-anchor=\"middle\" y=\"222.0\">\n",
       "    <tspan class=\"displacy-word\" fill=\"currentColor\" x=\"750\">and</tspan>\n",
       "    <tspan class=\"displacy-tag\" dy=\"2em\" fill=\"currentColor\" x=\"750\">CCONJ</tspan>\n",
       "</text>\n",
       "\n",
       "<text class=\"displacy-token\" fill=\"currentColor\" text-anchor=\"middle\" y=\"222.0\">\n",
       "    <tspan class=\"displacy-word\" fill=\"currentColor\" x=\"925\">CSS.</tspan>\n",
       "    <tspan class=\"displacy-tag\" dy=\"2em\" fill=\"currentColor\" x=\"925\">NOUN</tspan>\n",
       "</text>\n",
       "\n",
       "<g class=\"displacy-arrow\">\n",
       "    <path class=\"displacy-arc\" id=\"arrow-0-0\" stroke-width=\"2px\" d=\"M70,177.0 C70,89.5 220.0,89.5 220.0,177.0\" fill=\"none\" stroke=\"currentColor\"/>\n",
       "    <text dy=\"1.25em\" style=\"font-size: 0.8em; letter-spacing: 1px\">\n",
       "        <textPath xlink:href=\"#arrow-0-0\" class=\"displacy-label\" startOffset=\"50%\" fill=\"currentColor\" text-anchor=\"middle\">nsubj</textPath>\n",
       "    </text>\n",
       "    <path class=\"displacy-arrowhead\" d=\"M70,179.0 L62,167.0 78,167.0\" fill=\"currentColor\"/>\n",
       "</g>\n",
       "\n",
       "<g class=\"displacy-arrow\">\n",
       "    <path class=\"displacy-arc\" id=\"arrow-0-1\" stroke-width=\"2px\" d=\"M245,177.0 C245,89.5 395.0,89.5 395.0,177.0\" fill=\"none\" stroke=\"currentColor\"/>\n",
       "    <text dy=\"1.25em\" style=\"font-size: 0.8em; letter-spacing: 1px\">\n",
       "        <textPath xlink:href=\"#arrow-0-1\" class=\"displacy-label\" startOffset=\"50%\" fill=\"currentColor\" text-anchor=\"middle\">dobj</textPath>\n",
       "    </text>\n",
       "    <path class=\"displacy-arrowhead\" d=\"M395.0,179.0 L403.0,167.0 387.0,167.0\" fill=\"currentColor\"/>\n",
       "</g>\n",
       "\n",
       "<g class=\"displacy-arrow\">\n",
       "    <path class=\"displacy-arc\" id=\"arrow-0-2\" stroke-width=\"2px\" d=\"M420,177.0 C420,89.5 570.0,89.5 570.0,177.0\" fill=\"none\" stroke=\"currentColor\"/>\n",
       "    <text dy=\"1.25em\" style=\"font-size: 0.8em; letter-spacing: 1px\">\n",
       "        <textPath xlink:href=\"#arrow-0-2\" class=\"displacy-label\" startOffset=\"50%\" fill=\"currentColor\" text-anchor=\"middle\">conj</textPath>\n",
       "    </text>\n",
       "    <path class=\"displacy-arrowhead\" d=\"M570.0,179.0 L578.0,167.0 562.0,167.0\" fill=\"currentColor\"/>\n",
       "</g>\n",
       "\n",
       "<g class=\"displacy-arrow\">\n",
       "    <path class=\"displacy-arc\" id=\"arrow-0-3\" stroke-width=\"2px\" d=\"M595,177.0 C595,89.5 745.0,89.5 745.0,177.0\" fill=\"none\" stroke=\"currentColor\"/>\n",
       "    <text dy=\"1.25em\" style=\"font-size: 0.8em; letter-spacing: 1px\">\n",
       "        <textPath xlink:href=\"#arrow-0-3\" class=\"displacy-label\" startOffset=\"50%\" fill=\"currentColor\" text-anchor=\"middle\">cc</textPath>\n",
       "    </text>\n",
       "    <path class=\"displacy-arrowhead\" d=\"M745.0,179.0 L753.0,167.0 737.0,167.0\" fill=\"currentColor\"/>\n",
       "</g>\n",
       "\n",
       "<g class=\"displacy-arrow\">\n",
       "    <path class=\"displacy-arc\" id=\"arrow-0-4\" stroke-width=\"2px\" d=\"M595,177.0 C595,2.0 925.0,2.0 925.0,177.0\" fill=\"none\" stroke=\"currentColor\"/>\n",
       "    <text dy=\"1.25em\" style=\"font-size: 0.8em; letter-spacing: 1px\">\n",
       "        <textPath xlink:href=\"#arrow-0-4\" class=\"displacy-label\" startOffset=\"50%\" fill=\"currentColor\" text-anchor=\"middle\">conj</textPath>\n",
       "    </text>\n",
       "    <path class=\"displacy-arrowhead\" d=\"M925.0,179.0 L933.0,167.0 917.0,167.0\" fill=\"currentColor\"/>\n",
       "</g>\n",
       "</svg>"
      ],
      "text/plain": [
       "<IPython.core.display.HTML object>"
      ]
     },
     "metadata": {},
     "output_type": "display_data"
    }
   ],
   "source": [
    "docx = nlp(\"displaCy uses JavaScript, SVG and CSS.\")\n",
    "spacy.displacy.render(docx, style='dep', jupyter=\"True\")"
   ]
  },
  {
   "cell_type": "code",
   "execution_count": null,
   "metadata": {},
   "outputs": [],
   "source": []
  }
 ],
 "metadata": {
  "kernelspec": {
   "display_name": "Python 3",
   "language": "python",
   "name": "python3"
  },
  "language_info": {
   "codemirror_mode": {
    "name": "ipython",
    "version": 3
   },
   "file_extension": ".py",
   "mimetype": "text/x-python",
   "name": "python",
   "nbconvert_exporter": "python",
   "pygments_lexer": "ipython3",
   "version": "3.6.4"
  }
 },
 "nbformat": 4,
 "nbformat_minor": 2
}
